{
 "cells": [
  {
   "cell_type": "markdown",
   "id": "f4095ae4-7294-4b28-853e-88d235002c97",
   "metadata": {},
   "source": [
    "# Инициализация"
   ]
  },
  {
   "cell_type": "markdown",
   "id": "2f2318d2-9df8-4911-915e-15b725c44f8a",
   "metadata": {},
   "source": [
    "Загружаем библиотеки необходимые для выполнения кода ноутбука."
   ]
  },
  {
   "cell_type": "code",
   "execution_count": 1,
   "id": "662d04e7-1b0b-4e4a-9ddf-4526d7fef119",
   "metadata": {},
   "outputs": [
    {
     "name": "stdout",
     "output_type": "stream",
     "text": [
      "large_df: 7.63 MB\n",
      "MinMaxScaler: 0.00 MB\n",
      "CatBoostClassifier: 0.00 MB\n",
      "Pool: 0.00 MB\n",
      "open: 0.00 MB\n",
      "load_dotenv: 0.00 MB\n",
      "send_to_s3: 0.00 MB\n",
      "show_memory_usage: 0.00 MB\n",
      "get_most_popular: 0.00 MB\n",
      "AWS_SECRET_ACCESS_KEY: 0.00 MB\n",
      "S3_BUCKET_NAME: 0.00 MB\n",
      "AWS_S3_ENDPOINT_URL: 0.00 MB\n",
      "AWS_ACCESS_KEY_ID: 0.00 MB\n",
      "In: 0.00 MB\n",
      "logging: 0.00 MB\n",
      "Доступно памяти: 33.65 GB\n",
      "Используется: 1.67 GB\n"
     ]
    }
   ],
   "source": [
    "import logging\n",
    "\n",
    "import matplotlib.pyplot as plt\n",
    "import numpy as np\n",
    "import pandas as pd\n",
    "import os\n",
    "import resource\n",
    "import psutil\n",
    "import sys\n",
    "import seaborn as sns\n",
    "import boto3\n",
    "from dotenv import load_dotenv\n",
    "import ast\n",
    "import fastparquet\n",
    "import json\n",
    "from sklearn.preprocessing import MinMaxScaler\n",
    "# from surprise import Dataset, Reader\n",
    "# from surprise import SVD\n",
    "import scipy\n",
    "import sklearn.preprocessing\n",
    "from catboost import CatBoostClassifier, Pool\n",
    "\n",
    "\n",
    "%matplotlib inline\n",
    "%config InlineBackend.figure_format = 'png'\n",
    "%config InlineBackend.figure_format = 'retina'\n",
    "\n",
    "load_dotenv()\n",
    "\n",
    "AWS_S3_ENDPOINT_URL = 'https://storage.yandexcloud.net'\n",
    "AWS_ACCESS_KEY_ID = os.getenv(\"AWS_ACCESS_KEY_ID\")\n",
    "AWS_SECRET_ACCESS_KEY= os.getenv(\"AWS_SECRET_ACCESS_KEY\")\n",
    "S3_BUCKET_NAME = os.getenv('S3_BUCKET_NAME')\n",
    "\n",
    "session = boto3.session.Session()\n",
    "s3_client = session.client(\n",
    "    service_name='s3',\n",
    "    endpoint_url=AWS_S3_ENDPOINT_URL,\n",
    "    aws_access_key_id=AWS_ACCESS_KEY_ID,\n",
    "    aws_secret_access_key=AWS_SECRET_ACCESS_KEY\n",
    ")\n",
    "\n",
    "def send_to_s3(filepath, filename, bucket):\n",
    "    try:\n",
    "        s3_client.upload_file(filename, bucket, f'{filepath}/{filename}')\n",
    "        print('Успешно')\n",
    "    except Exception as ex:\n",
    "        print(f'Ошибка {ex}')\n",
    "\n",
    "\n",
    "def show_memory_usage():\n",
    "    globals_dict = globals()\n",
    "    sizes = {name: sys.getsizeof(obj) for name, obj in globals_dict.items() if not name.startswith('_')}\n",
    "    sorted_sizes = sorted(sizes.items(), key=lambda x: -x[1])\n",
    "    \n",
    "    for name, size in sorted_sizes[:15]:  # Топ-10 самых тяжелых объектов\n",
    "        print(f\"{name}: {size/1024**2:.2f} MB\")\n",
    "\n",
    "    print(f\"Доступно памяти: {psutil.virtual_memory().total/1e9:.2f} GB\")\n",
    "    print(f\"Используется: {psutil.virtual_memory().used/1e9:.2f} GB\")\n",
    "\n",
    "### создадим функцию определения популярности, чтобы избежать переиспользования кода\n",
    "def get_most_popular(type):\n",
    "    most_popular = pd.DataFrame(interactions['track_id'].value_counts()\n",
    "                            ).merge(catalog_names, left_on='track_id', right_on='id', \n",
    "                            how='inner').sort_values('count', ascending=False)\n",
    "    if type == 'track':\n",
    "        pass\n",
    "    else:\n",
    "        most_popular = most_popular.merge(tracks,left_on = 'id', right_on='track_id',\n",
    "                        how = 'inner').explode(str(type)+'s')[str(type)+'s'].value_counts()\n",
    "        most_popular = most_popular.reset_index()\n",
    "        most_popular.columns = ['id', 'count']  \n",
    "        most_popular = most_popular.merge(catalog_names[catalog_names['type'] == type],\n",
    "                                        #   left_on = 'id', right_on='track_id',\n",
    "                                        on = 'id', how = 'inner')\n",
    "    return most_popular\n",
    "\n",
    "large_df = pd.DataFrame({'col': range(10**6)})\n",
    "show_memory_usage()"
   ]
  },
  {
   "cell_type": "markdown",
   "id": "bf80fbc5-b660-4fac-8fbb-a5cae77313b3",
   "metadata": {},
   "source": [
    "# === ЭТАП 1 ==="
   ]
  },
  {
   "cell_type": "markdown",
   "id": "5263a8b3-fe99-4204-8a2e-105182792c11",
   "metadata": {},
   "source": [
    "# Загрузка первичных данных"
   ]
  },
  {
   "cell_type": "markdown",
   "id": "1b54a6a5-1656-4e3c-99d1-49dc39451d33",
   "metadata": {},
   "source": [
    "Загружаем первичные данные из файлов:\n",
    "- tracks.parquet\n",
    "- catalog_names.parquet\n",
    "- interactions.parquet"
   ]
  },
  {
   "cell_type": "code",
   "execution_count": 26,
   "id": "5d4b8961-3f35-4e58-9d6b-3e2dbd2c4224",
   "metadata": {},
   "outputs": [
    {
     "name": "stdout",
     "output_type": "stream",
     "text": [
      "interactions: 5520.23 MB\n",
      "tracks: 350.95 MB\n",
      "catalog_names: 263.71 MB\n",
      "large_df: 7.63 MB\n",
      "MinMaxScaler: 0.00 MB\n",
      "CatBoostClassifier: 0.00 MB\n",
      "Pool: 0.00 MB\n",
      "Out: 0.00 MB\n",
      "In: 0.00 MB\n",
      "open: 0.00 MB\n",
      "load_dotenv: 0.00 MB\n",
      "send_to_s3: 0.00 MB\n",
      "show_memory_usage: 0.00 MB\n",
      "get_most_popular: 0.00 MB\n",
      "AWS_SECRET_ACCESS_KEY: 0.00 MB\n",
      "Доступно памяти: 33.65 GB\n",
      "Используется: 22.02 GB\n"
     ]
    }
   ],
   "source": [
    "tracks = pd.read_parquet(\"data/tracks.parquet\")\n",
    "catalog_names = pd.read_parquet(\"data/catalog_names.parquet\")\n",
    "interactions = pd.read_parquet(\"data/interactions.parquet\")\n",
    "show_memory_usage()"
   ]
  },
  {
   "cell_type": "markdown",
   "id": "e8f2a1f7-a05f-4f39-af90-5f4018aa6f9d",
   "metadata": {},
   "source": [
    "# Обзор данных"
   ]
  },
  {
   "cell_type": "markdown",
   "id": "46a85307-896c-4fac-9fcf-f0dffa90889e",
   "metadata": {},
   "source": [
    "Проверяем данные, есть ли с ними явные проблемы."
   ]
  },
  {
   "cell_type": "code",
   "execution_count": 27,
   "id": "6ad02f90",
   "metadata": {},
   "outputs": [
    {
     "data": {
      "text/html": [
       "<div>\n",
       "<style scoped>\n",
       "    .dataframe tbody tr th:only-of-type {\n",
       "        vertical-align: middle;\n",
       "    }\n",
       "\n",
       "    .dataframe tbody tr th {\n",
       "        vertical-align: top;\n",
       "    }\n",
       "\n",
       "    .dataframe thead th {\n",
       "        text-align: right;\n",
       "    }\n",
       "</style>\n",
       "<table border=\"1\" class=\"dataframe\">\n",
       "  <thead>\n",
       "    <tr style=\"text-align: right;\">\n",
       "      <th></th>\n",
       "      <th>id</th>\n",
       "      <th>type</th>\n",
       "      <th>name</th>\n",
       "    </tr>\n",
       "  </thead>\n",
       "  <tbody>\n",
       "    <tr>\n",
       "      <th>0</th>\n",
       "      <td>3</td>\n",
       "      <td>album</td>\n",
       "      <td>Taller Children</td>\n",
       "    </tr>\n",
       "    <tr>\n",
       "      <th>1</th>\n",
       "      <td>12</td>\n",
       "      <td>album</td>\n",
       "      <td>Wild Young Hearts</td>\n",
       "    </tr>\n",
       "    <tr>\n",
       "      <th>2</th>\n",
       "      <td>13</td>\n",
       "      <td>album</td>\n",
       "      <td>Lonesome Crow</td>\n",
       "    </tr>\n",
       "    <tr>\n",
       "      <th>3</th>\n",
       "      <td>17</td>\n",
       "      <td>album</td>\n",
       "      <td>Graffiti Soul</td>\n",
       "    </tr>\n",
       "    <tr>\n",
       "      <th>4</th>\n",
       "      <td>26</td>\n",
       "      <td>album</td>\n",
       "      <td>Blues Six Pack</td>\n",
       "    </tr>\n",
       "  </tbody>\n",
       "</table>\n",
       "</div>"
      ],
      "text/plain": [
       "   id   type               name\n",
       "0   3  album    Taller Children\n",
       "1  12  album  Wild Young Hearts\n",
       "2  13  album      Lonesome Crow\n",
       "3  17  album      Graffiti Soul\n",
       "4  26  album     Blues Six Pack"
      ]
     },
     "execution_count": 27,
     "metadata": {},
     "output_type": "execute_result"
    }
   ],
   "source": [
    "catalog_names.head()"
   ]
  },
  {
   "cell_type": "code",
   "execution_count": 28,
   "id": "e7bee6bb",
   "metadata": {},
   "outputs": [
    {
     "data": {
      "text/html": [
       "<div>\n",
       "<style scoped>\n",
       "    .dataframe tbody tr th:only-of-type {\n",
       "        vertical-align: middle;\n",
       "    }\n",
       "\n",
       "    .dataframe tbody tr th {\n",
       "        vertical-align: top;\n",
       "    }\n",
       "\n",
       "    .dataframe thead th {\n",
       "        text-align: right;\n",
       "    }\n",
       "</style>\n",
       "<table border=\"1\" class=\"dataframe\">\n",
       "  <thead>\n",
       "    <tr style=\"text-align: right;\">\n",
       "      <th></th>\n",
       "      <th>user_id</th>\n",
       "      <th>track_id</th>\n",
       "      <th>track_seq</th>\n",
       "      <th>started_at</th>\n",
       "    </tr>\n",
       "  </thead>\n",
       "  <tbody>\n",
       "    <tr>\n",
       "      <th>0</th>\n",
       "      <td>0</td>\n",
       "      <td>99262</td>\n",
       "      <td>1</td>\n",
       "      <td>2022-07-17</td>\n",
       "    </tr>\n",
       "    <tr>\n",
       "      <th>1</th>\n",
       "      <td>0</td>\n",
       "      <td>589498</td>\n",
       "      <td>2</td>\n",
       "      <td>2022-07-19</td>\n",
       "    </tr>\n",
       "    <tr>\n",
       "      <th>2</th>\n",
       "      <td>0</td>\n",
       "      <td>590262</td>\n",
       "      <td>3</td>\n",
       "      <td>2022-07-21</td>\n",
       "    </tr>\n",
       "    <tr>\n",
       "      <th>3</th>\n",
       "      <td>0</td>\n",
       "      <td>590303</td>\n",
       "      <td>4</td>\n",
       "      <td>2022-07-22</td>\n",
       "    </tr>\n",
       "    <tr>\n",
       "      <th>4</th>\n",
       "      <td>0</td>\n",
       "      <td>590692</td>\n",
       "      <td>5</td>\n",
       "      <td>2022-07-22</td>\n",
       "    </tr>\n",
       "  </tbody>\n",
       "</table>\n",
       "</div>"
      ],
      "text/plain": [
       "   user_id  track_id  track_seq started_at\n",
       "0        0     99262          1 2022-07-17\n",
       "1        0    589498          2 2022-07-19\n",
       "2        0    590262          3 2022-07-21\n",
       "3        0    590303          4 2022-07-22\n",
       "4        0    590692          5 2022-07-22"
      ]
     },
     "execution_count": 28,
     "metadata": {},
     "output_type": "execute_result"
    }
   ],
   "source": [
    "interactions.head()"
   ]
  },
  {
   "cell_type": "code",
   "execution_count": 29,
   "id": "f4aa8b45",
   "metadata": {},
   "outputs": [
    {
     "name": "stdout",
     "output_type": "stream",
     "text": [
      "<class 'pandas.core.frame.DataFrame'>\n",
      "RangeIndex: 1812471 entries, 0 to 1812470\n",
      "Data columns (total 3 columns):\n",
      " #   Column  Dtype \n",
      "---  ------  ----- \n",
      " 0   id      int64 \n",
      " 1   type    object\n",
      " 2   name    object\n",
      "dtypes: int64(1), object(2)\n",
      "memory usage: 41.5+ MB\n"
     ]
    }
   ],
   "source": [
    "catalog_names.info()"
   ]
  },
  {
   "cell_type": "code",
   "execution_count": 30,
   "id": "e68b85ec",
   "metadata": {},
   "outputs": [
    {
     "name": "stdout",
     "output_type": "stream",
     "text": [
      "<class 'pandas.core.frame.DataFrame'>\n",
      "Index: 222629898 entries, 0 to 291\n",
      "Data columns (total 4 columns):\n",
      " #   Column      Dtype         \n",
      "---  ------      -----         \n",
      " 0   user_id     int32         \n",
      " 1   track_id    int32         \n",
      " 2   track_seq   int16         \n",
      " 3   started_at  datetime64[ns]\n",
      "dtypes: datetime64[ns](1), int16(1), int32(2)\n",
      "memory usage: 5.4 GB\n"
     ]
    }
   ],
   "source": [
    "interactions.info()"
   ]
  },
  {
   "cell_type": "markdown",
   "id": "bfbd558f",
   "metadata": {},
   "source": [
    "Проведем анализ пустых значений"
   ]
  },
  {
   "cell_type": "code",
   "execution_count": 31,
   "id": "13340b27",
   "metadata": {},
   "outputs": [
    {
     "name": "stdout",
     "output_type": "stream",
     "text": [
      "track_id    0\n",
      "albums      0\n",
      "artists     0\n",
      "genres      0\n",
      "dtype: int64\n",
      "-----------\n",
      "id      0\n",
      "type    0\n",
      "name    0\n",
      "dtype: int64\n",
      "-----------\n",
      "user_id       0\n",
      "track_id      0\n",
      "track_seq     0\n",
      "started_at    0\n",
      "dtype: int64\n"
     ]
    }
   ],
   "source": [
    "print(tracks.isnull().sum().sort_values(ascending=False))\n",
    "print('-----------')\n",
    "print(catalog_names.isnull().sum().sort_values(ascending=False))\n",
    "print('-----------')\n",
    "print(interactions.isnull().sum().sort_values(ascending=False))"
   ]
  },
  {
   "cell_type": "code",
   "execution_count": 32,
   "id": "207f998b",
   "metadata": {},
   "outputs": [
    {
     "data": {
      "text/html": [
       "<div>\n",
       "<style scoped>\n",
       "    .dataframe tbody tr th:only-of-type {\n",
       "        vertical-align: middle;\n",
       "    }\n",
       "\n",
       "    .dataframe tbody tr th {\n",
       "        vertical-align: top;\n",
       "    }\n",
       "\n",
       "    .dataframe thead th {\n",
       "        text-align: right;\n",
       "    }\n",
       "</style>\n",
       "<table border=\"1\" class=\"dataframe\">\n",
       "  <thead>\n",
       "    <tr style=\"text-align: right;\">\n",
       "      <th></th>\n",
       "      <th>track_id</th>\n",
       "      <th>albums</th>\n",
       "      <th>artists</th>\n",
       "      <th>genres</th>\n",
       "    </tr>\n",
       "  </thead>\n",
       "  <tbody>\n",
       "    <tr>\n",
       "      <th>0</th>\n",
       "      <td>26</td>\n",
       "      <td>[3, 2490753]</td>\n",
       "      <td>[16]</td>\n",
       "      <td>[11, 21]</td>\n",
       "    </tr>\n",
       "    <tr>\n",
       "      <th>1</th>\n",
       "      <td>38</td>\n",
       "      <td>[3, 2490753]</td>\n",
       "      <td>[16]</td>\n",
       "      <td>[11, 21]</td>\n",
       "    </tr>\n",
       "    <tr>\n",
       "      <th>2</th>\n",
       "      <td>135</td>\n",
       "      <td>[12, 214, 2490809]</td>\n",
       "      <td>[84]</td>\n",
       "      <td>[11]</td>\n",
       "    </tr>\n",
       "    <tr>\n",
       "      <th>3</th>\n",
       "      <td>136</td>\n",
       "      <td>[12, 214, 2490809]</td>\n",
       "      <td>[84]</td>\n",
       "      <td>[11]</td>\n",
       "    </tr>\n",
       "    <tr>\n",
       "      <th>4</th>\n",
       "      <td>138</td>\n",
       "      <td>[12, 214, 322, 72275, 72292, 91199, 213505, 24...</td>\n",
       "      <td>[84]</td>\n",
       "      <td>[11]</td>\n",
       "    </tr>\n",
       "    <tr>\n",
       "      <th>...</th>\n",
       "      <td>...</td>\n",
       "      <td>...</td>\n",
       "      <td>...</td>\n",
       "      <td>...</td>\n",
       "    </tr>\n",
       "    <tr>\n",
       "      <th>999995</th>\n",
       "      <td>101478482</td>\n",
       "      <td>[21399811]</td>\n",
       "      <td>[5540395]</td>\n",
       "      <td>[3, 75]</td>\n",
       "    </tr>\n",
       "    <tr>\n",
       "      <th>999996</th>\n",
       "      <td>101490148</td>\n",
       "      <td>[21403052]</td>\n",
       "      <td>[9078726]</td>\n",
       "      <td>[11, 20]</td>\n",
       "    </tr>\n",
       "    <tr>\n",
       "      <th>999997</th>\n",
       "      <td>101493057</td>\n",
       "      <td>[21403883]</td>\n",
       "      <td>[11865715]</td>\n",
       "      <td>[44, 75]</td>\n",
       "    </tr>\n",
       "    <tr>\n",
       "      <th>999998</th>\n",
       "      <td>101495927</td>\n",
       "      <td>[21404975]</td>\n",
       "      <td>[4462686]</td>\n",
       "      <td>[3, 75]</td>\n",
       "    </tr>\n",
       "    <tr>\n",
       "      <th>999999</th>\n",
       "      <td>101521819</td>\n",
       "      <td>[21414638]</td>\n",
       "      <td>[5056591]</td>\n",
       "      <td>[3, 75]</td>\n",
       "    </tr>\n",
       "  </tbody>\n",
       "</table>\n",
       "<p>980977 rows × 4 columns</p>\n",
       "</div>"
      ],
      "text/plain": [
       "         track_id                                             albums   \n",
       "0              26                                       [3, 2490753]  \\\n",
       "1              38                                       [3, 2490753]   \n",
       "2             135                                 [12, 214, 2490809]   \n",
       "3             136                                 [12, 214, 2490809]   \n",
       "4             138  [12, 214, 322, 72275, 72292, 91199, 213505, 24...   \n",
       "...           ...                                                ...   \n",
       "999995  101478482                                         [21399811]   \n",
       "999996  101490148                                         [21403052]   \n",
       "999997  101493057                                         [21403883]   \n",
       "999998  101495927                                         [21404975]   \n",
       "999999  101521819                                         [21414638]   \n",
       "\n",
       "           artists    genres  \n",
       "0             [16]  [11, 21]  \n",
       "1             [16]  [11, 21]  \n",
       "2             [84]      [11]  \n",
       "3             [84]      [11]  \n",
       "4             [84]      [11]  \n",
       "...            ...       ...  \n",
       "999995   [5540395]   [3, 75]  \n",
       "999996   [9078726]  [11, 20]  \n",
       "999997  [11865715]  [44, 75]  \n",
       "999998   [4462686]   [3, 75]  \n",
       "999999   [5056591]   [3, 75]  \n",
       "\n",
       "[980977 rows x 4 columns]"
      ]
     },
     "execution_count": 32,
     "metadata": {},
     "output_type": "execute_result"
    }
   ],
   "source": [
    "# ### удаляем пустые массивы\n",
    "tracks = tracks[(tracks['albums'].str.len() != 0) & (tracks['artists'].str.len() != 0) &\n",
    "       (tracks['genres'].str.len() != 0)]\n",
    "tracks"
   ]
  },
  {
   "cell_type": "code",
   "execution_count": 33,
   "id": "9a15e757",
   "metadata": {},
   "outputs": [],
   "source": [
    "# ### для экономии памяти сохраним очищенный датасет, чтобы в дальнейшем читать уже его\n",
    "# tracks.to_parquet('data/tracks_clean.parquet')\n",
    "del tracks\n",
    "tracks = pd.read_parquet('data/tracks_clean.parquet')\n"
   ]
  },
  {
   "cell_type": "markdown",
   "id": "adc14b5b",
   "metadata": {},
   "source": [
    "Проверка на наличие дубликатов"
   ]
  },
  {
   "cell_type": "code",
   "execution_count": 34,
   "id": "efd2e2eb-3bec-4ce1-87ac-232bab8bc0d0",
   "metadata": {},
   "outputs": [
    {
     "name": "stdout",
     "output_type": "stream",
     "text": [
      "0\n",
      "35774\n"
     ]
    },
    {
     "name": "stdout",
     "output_type": "stream",
     "text": [
      "221256677\n"
     ]
    }
   ],
   "source": [
    "print(tracks['track_id'].duplicated().sum())\n",
    "print(catalog_names['id'].duplicated().sum())\n",
    "print(interactions['user_id'].duplicated().sum())"
   ]
  },
  {
   "cell_type": "code",
   "execution_count": 12,
   "id": "e191a169",
   "metadata": {},
   "outputs": [
    {
     "data": {
      "text/html": [
       "<div>\n",
       "<style scoped>\n",
       "    .dataframe tbody tr th:only-of-type {\n",
       "        vertical-align: middle;\n",
       "    }\n",
       "\n",
       "    .dataframe tbody tr th {\n",
       "        vertical-align: top;\n",
       "    }\n",
       "\n",
       "    .dataframe thead th {\n",
       "        text-align: right;\n",
       "    }\n",
       "</style>\n",
       "<table border=\"1\" class=\"dataframe\">\n",
       "  <thead>\n",
       "    <tr style=\"text-align: right;\">\n",
       "      <th></th>\n",
       "      <th>id</th>\n",
       "      <th>type</th>\n",
       "      <th>name</th>\n",
       "    </tr>\n",
       "  </thead>\n",
       "  <tbody>\n",
       "    <tr>\n",
       "      <th>812308</th>\n",
       "      <td>3</td>\n",
       "      <td>genre</td>\n",
       "      <td>rusrap</td>\n",
       "    </tr>\n",
       "    <tr>\n",
       "      <th>0</th>\n",
       "      <td>3</td>\n",
       "      <td>album</td>\n",
       "      <td>Taller Children</td>\n",
       "    </tr>\n",
       "    <tr>\n",
       "      <th>812309</th>\n",
       "      <td>4</td>\n",
       "      <td>genre</td>\n",
       "      <td>postrock</td>\n",
       "    </tr>\n",
       "    <tr>\n",
       "      <th>658724</th>\n",
       "      <td>4</td>\n",
       "      <td>artist</td>\n",
       "      <td>Kenny Dorham</td>\n",
       "    </tr>\n",
       "    <tr>\n",
       "      <th>658725</th>\n",
       "      <td>5</td>\n",
       "      <td>artist</td>\n",
       "      <td>Max Roach</td>\n",
       "    </tr>\n",
       "    <tr>\n",
       "      <th>...</th>\n",
       "      <td>...</td>\n",
       "      <td>...</td>\n",
       "      <td>...</td>\n",
       "    </tr>\n",
       "    <tr>\n",
       "      <th>1141114</th>\n",
       "      <td>21321251</td>\n",
       "      <td>track</td>\n",
       "      <td>Lady in Red</td>\n",
       "    </tr>\n",
       "    <tr>\n",
       "      <th>1141142</th>\n",
       "      <td>21327491</td>\n",
       "      <td>track</td>\n",
       "      <td>Waiting Here</td>\n",
       "    </tr>\n",
       "    <tr>\n",
       "      <th>658146</th>\n",
       "      <td>21327491</td>\n",
       "      <td>album</td>\n",
       "      <td>Lay With Me The Ultimate Fantasy Playlist</td>\n",
       "    </tr>\n",
       "    <tr>\n",
       "      <th>658501</th>\n",
       "      <td>21388828</td>\n",
       "      <td>album</td>\n",
       "      <td>Serata Sanremo</td>\n",
       "    </tr>\n",
       "    <tr>\n",
       "      <th>1141665</th>\n",
       "      <td>21388828</td>\n",
       "      <td>track</td>\n",
       "      <td>Devil</td>\n",
       "    </tr>\n",
       "  </tbody>\n",
       "</table>\n",
       "<p>70418 rows × 3 columns</p>\n",
       "</div>"
      ],
      "text/plain": [
       "               id    type                                       name\n",
       "812308          3   genre                                     rusrap\n",
       "0               3   album                            Taller Children\n",
       "812309          4   genre                                   postrock\n",
       "658724          4  artist                               Kenny Dorham\n",
       "658725          5  artist                                  Max Roach\n",
       "...           ...     ...                                        ...\n",
       "1141114  21321251   track                                Lady in Red\n",
       "1141142  21327491   track                               Waiting Here\n",
       "658146   21327491   album  Lay With Me The Ultimate Fantasy Playlist\n",
       "658501   21388828   album                             Serata Sanremo\n",
       "1141665  21388828   track                                      Devil\n",
       "\n",
       "[70418 rows x 3 columns]"
      ]
     },
     "execution_count": 12,
     "metadata": {},
     "output_type": "execute_result"
    }
   ],
   "source": [
    "catalog_names[catalog_names['id'].duplicated(keep=False)].sort_values(by=['id'])"
   ]
  },
  {
   "cell_type": "code",
   "execution_count": 24,
   "id": "c4867b04",
   "metadata": {},
   "outputs": [
    {
     "data": {
      "text/html": [
       "<div>\n",
       "<style scoped>\n",
       "    .dataframe tbody tr th:only-of-type {\n",
       "        vertical-align: middle;\n",
       "    }\n",
       "\n",
       "    .dataframe tbody tr th {\n",
       "        vertical-align: top;\n",
       "    }\n",
       "\n",
       "    .dataframe thead th {\n",
       "        text-align: right;\n",
       "    }\n",
       "</style>\n",
       "<table border=\"1\" class=\"dataframe\">\n",
       "  <thead>\n",
       "    <tr style=\"text-align: right;\">\n",
       "      <th></th>\n",
       "      <th>id</th>\n",
       "      <th>type</th>\n",
       "      <th>name</th>\n",
       "    </tr>\n",
       "  </thead>\n",
       "  <tbody>\n",
       "  </tbody>\n",
       "</table>\n",
       "</div>"
      ],
      "text/plain": [
       "Empty DataFrame\n",
       "Columns: [id, type, name]\n",
       "Index: []"
      ]
     },
     "execution_count": 24,
     "metadata": {},
     "output_type": "execute_result"
    }
   ],
   "source": [
    "catalog_names[catalog_names[['id', 'type']].duplicated(keep=False)].sort_values(by=['id'])"
   ]
  },
  {
   "cell_type": "markdown",
   "id": "92d13eef",
   "metadata": {},
   "source": [
    "Как мы видим, дубли в catalog_names присутствуют только в качестве id. При привязке к типу каталога дублей нет. Считаю, что нет необходимости удалять такие дубли"
   ]
  },
  {
   "cell_type": "code",
   "execution_count": 14,
   "id": "c753a8b1",
   "metadata": {},
   "outputs": [
    {
     "data": {
      "text/html": [
       "<div>\n",
       "<style scoped>\n",
       "    .dataframe tbody tr th:only-of-type {\n",
       "        vertical-align: middle;\n",
       "    }\n",
       "\n",
       "    .dataframe tbody tr th {\n",
       "        vertical-align: top;\n",
       "    }\n",
       "\n",
       "    .dataframe thead th {\n",
       "        text-align: right;\n",
       "    }\n",
       "</style>\n",
       "<table border=\"1\" class=\"dataframe\">\n",
       "  <thead>\n",
       "    <tr style=\"text-align: right;\">\n",
       "      <th></th>\n",
       "      <th>user_id</th>\n",
       "      <th>track_id</th>\n",
       "      <th>track_seq</th>\n",
       "      <th>started_at</th>\n",
       "    </tr>\n",
       "  </thead>\n",
       "  <tbody>\n",
       "  </tbody>\n",
       "</table>\n",
       "</div>"
      ],
      "text/plain": [
       "Empty DataFrame\n",
       "Columns: [user_id, track_id, track_seq, started_at]\n",
       "Index: []"
      ]
     },
     "execution_count": 14,
     "metadata": {},
     "output_type": "execute_result"
    }
   ],
   "source": [
    "interactions[interactions[['user_id', 'track_id']].duplicated(keep=False)].sort_values(by=['user_id', 'track_id'])"
   ]
  },
  {
   "cell_type": "markdown",
   "id": "41f9052b",
   "metadata": {},
   "source": [
    "Аналогичная ситуация по взаимодействиям. Нет повторяющихся взаимодействий \"пользователь-трек\""
   ]
  },
  {
   "cell_type": "markdown",
   "id": "289601fe",
   "metadata": {},
   "source": [
    "Некорректные поля"
   ]
  },
  {
   "cell_type": "code",
   "execution_count": 35,
   "id": "236d5371",
   "metadata": {},
   "outputs": [
    {
     "data": {
      "text/html": [
       "<div>\n",
       "<style scoped>\n",
       "    .dataframe tbody tr th:only-of-type {\n",
       "        vertical-align: middle;\n",
       "    }\n",
       "\n",
       "    .dataframe tbody tr th {\n",
       "        vertical-align: top;\n",
       "    }\n",
       "\n",
       "    .dataframe thead th {\n",
       "        text-align: right;\n",
       "    }\n",
       "</style>\n",
       "<table border=\"1\" class=\"dataframe\">\n",
       "  <thead>\n",
       "    <tr style=\"text-align: right;\">\n",
       "      <th></th>\n",
       "      <th>id</th>\n",
       "      <th>type</th>\n",
       "      <th>name</th>\n",
       "    </tr>\n",
       "  </thead>\n",
       "  <tbody>\n",
       "    <tr>\n",
       "      <th>744</th>\n",
       "      <td>1756</td>\n",
       "      <td>album</td>\n",
       "      <td>R</td>\n",
       "    </tr>\n",
       "    <tr>\n",
       "      <th>3864</th>\n",
       "      <td>8285</td>\n",
       "      <td>album</td>\n",
       "      <td>7</td>\n",
       "    </tr>\n",
       "    <tr>\n",
       "      <th>6996</th>\n",
       "      <td>18121</td>\n",
       "      <td>album</td>\n",
       "      <td>9</td>\n",
       "    </tr>\n",
       "    <tr>\n",
       "      <th>7640</th>\n",
       "      <td>21076</td>\n",
       "      <td>album</td>\n",
       "      <td>i</td>\n",
       "    </tr>\n",
       "    <tr>\n",
       "      <th>8306</th>\n",
       "      <td>23526</td>\n",
       "      <td>album</td>\n",
       "      <td>9</td>\n",
       "    </tr>\n",
       "    <tr>\n",
       "      <th>...</th>\n",
       "      <td>...</td>\n",
       "      <td>...</td>\n",
       "      <td>...</td>\n",
       "    </tr>\n",
       "    <tr>\n",
       "      <th>1802952</th>\n",
       "      <td>96311572</td>\n",
       "      <td>track</td>\n",
       "      <td>О</td>\n",
       "    </tr>\n",
       "    <tr>\n",
       "      <th>1803916</th>\n",
       "      <td>96687494</td>\n",
       "      <td>track</td>\n",
       "      <td>N</td>\n",
       "    </tr>\n",
       "    <tr>\n",
       "      <th>1806190</th>\n",
       "      <td>97580726</td>\n",
       "      <td>track</td>\n",
       "      <td>U</td>\n",
       "    </tr>\n",
       "    <tr>\n",
       "      <th>1808730</th>\n",
       "      <td>98756838</td>\n",
       "      <td>track</td>\n",
       "      <td>I</td>\n",
       "    </tr>\n",
       "    <tr>\n",
       "      <th>1810469</th>\n",
       "      <td>99600497</td>\n",
       "      <td>track</td>\n",
       "      <td>V</td>\n",
       "    </tr>\n",
       "  </tbody>\n",
       "</table>\n",
       "<p>1034 rows × 3 columns</p>\n",
       "</div>"
      ],
      "text/plain": [
       "               id   type name\n",
       "744          1756  album    R\n",
       "3864         8285  album    7\n",
       "6996        18121  album    9\n",
       "7640        21076  album    i\n",
       "8306        23526  album    9\n",
       "...           ...    ...  ...\n",
       "1802952  96311572  track    О\n",
       "1803916  96687494  track    N\n",
       "1806190  97580726  track    U\n",
       "1808730  98756838  track    I\n",
       "1810469  99600497  track    V\n",
       "\n",
       "[1034 rows x 3 columns]"
      ]
     },
     "execution_count": 35,
     "metadata": {},
     "output_type": "execute_result"
    }
   ],
   "source": [
    "catalog_names[catalog_names['name'].str.len()==1]"
   ]
  },
  {
   "cell_type": "markdown",
   "id": "bf831d77",
   "metadata": {},
   "source": [
    "Не нашел на Яндекс Музыке таких исполнителей и альбомов. Можно очистить"
   ]
  },
  {
   "cell_type": "code",
   "execution_count": 36,
   "id": "89b2a563",
   "metadata": {},
   "outputs": [
    {
     "data": {
      "text/html": [
       "<div>\n",
       "<style scoped>\n",
       "    .dataframe tbody tr th:only-of-type {\n",
       "        vertical-align: middle;\n",
       "    }\n",
       "\n",
       "    .dataframe tbody tr th {\n",
       "        vertical-align: top;\n",
       "    }\n",
       "\n",
       "    .dataframe thead th {\n",
       "        text-align: right;\n",
       "    }\n",
       "</style>\n",
       "<table border=\"1\" class=\"dataframe\">\n",
       "  <thead>\n",
       "    <tr style=\"text-align: right;\">\n",
       "      <th></th>\n",
       "      <th>id</th>\n",
       "      <th>type</th>\n",
       "      <th>name</th>\n",
       "    </tr>\n",
       "  </thead>\n",
       "  <tbody>\n",
       "    <tr>\n",
       "      <th>0</th>\n",
       "      <td>3</td>\n",
       "      <td>album</td>\n",
       "      <td>Taller Children</td>\n",
       "    </tr>\n",
       "    <tr>\n",
       "      <th>1</th>\n",
       "      <td>12</td>\n",
       "      <td>album</td>\n",
       "      <td>Wild Young Hearts</td>\n",
       "    </tr>\n",
       "    <tr>\n",
       "      <th>2</th>\n",
       "      <td>13</td>\n",
       "      <td>album</td>\n",
       "      <td>Lonesome Crow</td>\n",
       "    </tr>\n",
       "    <tr>\n",
       "      <th>3</th>\n",
       "      <td>17</td>\n",
       "      <td>album</td>\n",
       "      <td>Graffiti Soul</td>\n",
       "    </tr>\n",
       "    <tr>\n",
       "      <th>4</th>\n",
       "      <td>26</td>\n",
       "      <td>album</td>\n",
       "      <td>Blues Six Pack</td>\n",
       "    </tr>\n",
       "  </tbody>\n",
       "</table>\n",
       "</div>"
      ],
      "text/plain": [
       "   id   type               name\n",
       "0   3  album    Taller Children\n",
       "1  12  album  Wild Young Hearts\n",
       "2  13  album      Lonesome Crow\n",
       "3  17  album      Graffiti Soul\n",
       "4  26  album     Blues Six Pack"
      ]
     },
     "execution_count": 36,
     "metadata": {},
     "output_type": "execute_result"
    }
   ],
   "source": [
    "catalog_names = catalog_names[catalog_names['name'].str.len()!=1]\n",
    "catalog_names.head()"
   ]
  },
  {
   "cell_type": "code",
   "execution_count": 37,
   "id": "2fea5dfa",
   "metadata": {},
   "outputs": [],
   "source": [
    "# ### для экономии памяти сохраним очищенный датасет, чтобы в дальнейшем читать уже его\n",
    "# catalog_names.to_parquet('data/catalog_names_clean.parquet')\n",
    "del catalog_names\n",
    "catalog_names = pd.read_parquet('data/catalog_names_clean.parquet')"
   ]
  },
  {
   "cell_type": "code",
   "execution_count": 39,
   "id": "2825be3a",
   "metadata": {},
   "outputs": [
    {
     "name": "stdout",
     "output_type": "stream",
     "text": [
      "interactions: 5520.23 MB\n",
      "tracks: 351.76 MB\n",
      "catalog_names: 277.40 MB\n",
      "large_df: 7.63 MB\n",
      "MinMaxScaler: 0.00 MB\n",
      "CatBoostClassifier: 0.00 MB\n",
      "Pool: 0.00 MB\n",
      "Out: 0.00 MB\n",
      "In: 0.00 MB\n",
      "open: 0.00 MB\n",
      "load_dotenv: 0.00 MB\n",
      "send_to_s3: 0.00 MB\n",
      "show_memory_usage: 0.00 MB\n",
      "get_most_popular: 0.00 MB\n",
      "AWS_SECRET_ACCESS_KEY: 0.00 MB\n",
      "Доступно памяти: 33.65 GB\n",
      "Используется: 28.68 GB\n"
     ]
    }
   ],
   "source": [
    "# ### для экономии памяти сохраним очищенный датасет, чтобы в дальнейшем читать уже его\n",
    "# interactions.to_parquet('data/interactions_clean.parquet')\n",
    "del interactions\n",
    "interactions = pd.read_parquet('data/interactions_clean.parquet')\n",
    "show_memory_usage()\n"
   ]
  },
  {
   "cell_type": "markdown",
   "id": "318b573a-9e2d-4808-95db-60cfb8bbdb73",
   "metadata": {
    "editable": true,
    "slideshow": {
     "slide_type": ""
    },
    "tags": []
   },
   "source": [
    "# Выводы"
   ]
  },
  {
   "cell_type": "markdown",
   "id": "caa96e12-36a8-4401-8f11-98627a49ae9d",
   "metadata": {},
   "source": [
    "Приведём выводы по первому знакомству с данными:\n",
    "- есть ли с данными явные проблемы,\n",
    "- какие корректирующие действия (в целом) были предприняты."
   ]
  },
  {
   "cell_type": "markdown",
   "id": "f58cd010-c2fa-475f-b7e9-767965cd4f55",
   "metadata": {},
   "source": [
    "Крупных проблем с данными не обнаружено. Среди обнаруженных и исправленных проблем: <br>\n",
    "- Пустые массивы в tracks;\n",
    "- Некорректные имена каталогов"
   ]
  },
  {
   "cell_type": "markdown",
   "id": "9eb65c5c-3c2a-412a-ab7e-30ec9da54fea",
   "metadata": {},
   "source": [
    "Явных и значительных проблем в данных не обнаружил. <br>\n",
    "Были удалены пустые и некорректные записи, а также записи в названии которых один символ. Проверка по по поиску некоторых вышеописанных композиций в Яндекс Музыке не принесла результатов. Так как число таких конмпозиций также незначительно - принял решение очистить эти данные."
   ]
  },
  {
   "cell_type": "markdown",
   "id": "7bc3296b-eba6-4333-a78d-b9304aa87e3d",
   "metadata": {},
   "source": [
    "# === ЭТАП 2 ==="
   ]
  },
  {
   "cell_type": "markdown",
   "id": "68e73960-fd38-4e15-8db0-9a25c35dfd25",
   "metadata": {},
   "source": [
    "# EDA"
   ]
  },
  {
   "cell_type": "code",
   "execution_count": 2,
   "id": "35714c69",
   "metadata": {},
   "outputs": [
    {
     "name": "stdout",
     "output_type": "stream",
     "text": [
      "interactions: 5520.23 MB\n",
      "tracks: 351.76 MB\n",
      "catalog_names: 277.40 MB\n",
      "large_df: 7.63 MB\n",
      "MinMaxScaler: 0.00 MB\n",
      "CatBoostClassifier: 0.00 MB\n",
      "Pool: 0.00 MB\n",
      "open: 0.00 MB\n",
      "load_dotenv: 0.00 MB\n",
      "send_to_s3: 0.00 MB\n",
      "show_memory_usage: 0.00 MB\n",
      "get_most_popular: 0.00 MB\n",
      "In: 0.00 MB\n",
      "AWS_SECRET_ACCESS_KEY: 0.00 MB\n",
      "S3_BUCKET_NAME: 0.00 MB\n",
      "Доступно памяти: 33.65 GB\n",
      "Используется: 13.97 GB\n"
     ]
    }
   ],
   "source": [
    "tracks = pd.read_parquet('data/tracks_clean.parquet')\n",
    "catalog_names = pd.read_parquet('data/catalog_names_clean.parquet')\n",
    "interactions = pd.read_parquet(\"data/interactions_clean.parquet\")\n",
    "show_memory_usage()"
   ]
  },
  {
   "cell_type": "markdown",
   "id": "a30e823e-8e0f-4a76-a02e-8d1ba8bf0f8a",
   "metadata": {},
   "source": [
    "Распределение количества прослушанных треков."
   ]
  },
  {
   "cell_type": "code",
   "execution_count": 3,
   "id": "086353e8",
   "metadata": {},
   "outputs": [
    {
     "data": {
      "image/png": "[encoded data removed]",
      "text/plain": [
       "<Figure size 1000x500 with 1 Axes>"
      ]
     },
     "metadata": {
      "image/png": {
       "height": 485,
       "width": 859
      }
     },
     "output_type": "display_data"
    }
   ],
   "source": [
    "interactions['month'] = pd.to_datetime(interactions['started_at'], unit='s').dt.to_period('M') \n",
    "monthly_listened = interactions.groupby('month').agg({'track_id' : 'count'})\n",
    "monthly_listened.plot(kind='line', figsize=(10, 5), marker='o')\n",
    "plt.title('Прослушивания по месяцам')\n",
    "plt.xlabel('Дата начала прослушивания трека')\n",
    "plt.ylabel('Количество прослушиваний')\n",
    "plt.grid()\n",
    "plt.show()"
   ]
  },
  {
   "cell_type": "markdown",
   "id": "d765519a-18dd-4d30-9e29-cc2d84cacd79",
   "metadata": {},
   "source": [
    "Наиболее популярные треки"
   ]
  },
  {
   "cell_type": "code",
   "execution_count": 5,
   "id": "1763cac5",
   "metadata": {},
   "outputs": [
    {
     "data": {
      "text/html": [
       "<div>\n",
       "<style scoped>\n",
       "    .dataframe tbody tr th:only-of-type {\n",
       "        vertical-align: middle;\n",
       "    }\n",
       "\n",
       "    .dataframe tbody tr th {\n",
       "        vertical-align: top;\n",
       "    }\n",
       "\n",
       "    .dataframe thead th {\n",
       "        text-align: right;\n",
       "    }\n",
       "</style>\n",
       "<table border=\"1\" class=\"dataframe\">\n",
       "  <thead>\n",
       "    <tr style=\"text-align: right;\">\n",
       "      <th></th>\n",
       "      <th>count</th>\n",
       "      <th>id</th>\n",
       "      <th>type</th>\n",
       "      <th>name</th>\n",
       "    </tr>\n",
       "  </thead>\n",
       "  <tbody>\n",
       "    <tr>\n",
       "      <th>0</th>\n",
       "      <td>111062</td>\n",
       "      <td>53404</td>\n",
       "      <td>track</td>\n",
       "      <td>Smells Like Teen Spirit</td>\n",
       "    </tr>\n",
       "    <tr>\n",
       "      <th>1</th>\n",
       "      <td>106921</td>\n",
       "      <td>33311009</td>\n",
       "      <td>track</td>\n",
       "      <td>Believer</td>\n",
       "    </tr>\n",
       "    <tr>\n",
       "      <th>2</th>\n",
       "      <td>101924</td>\n",
       "      <td>178529</td>\n",
       "      <td>track</td>\n",
       "      <td>Numb</td>\n",
       "    </tr>\n",
       "    <tr>\n",
       "      <th>3</th>\n",
       "      <td>99490</td>\n",
       "      <td>35505245</td>\n",
       "      <td>track</td>\n",
       "      <td>I Got Love</td>\n",
       "    </tr>\n",
       "    <tr>\n",
       "      <th>4</th>\n",
       "      <td>86670</td>\n",
       "      <td>65851540</td>\n",
       "      <td>track</td>\n",
       "      <td>Юность</td>\n",
       "    </tr>\n",
       "    <tr>\n",
       "      <th>5</th>\n",
       "      <td>86246</td>\n",
       "      <td>24692821</td>\n",
       "      <td>track</td>\n",
       "      <td>Way Down We Go</td>\n",
       "    </tr>\n",
       "    <tr>\n",
       "      <th>6</th>\n",
       "      <td>85886</td>\n",
       "      <td>32947997</td>\n",
       "      <td>track</td>\n",
       "      <td>Shape of You</td>\n",
       "    </tr>\n",
       "    <tr>\n",
       "      <th>7</th>\n",
       "      <td>85244</td>\n",
       "      <td>51241318</td>\n",
       "      <td>track</td>\n",
       "      <td>In The End</td>\n",
       "    </tr>\n",
       "    <tr>\n",
       "      <th>8</th>\n",
       "      <td>85042</td>\n",
       "      <td>795836</td>\n",
       "      <td>track</td>\n",
       "      <td>Shape Of My Heart</td>\n",
       "    </tr>\n",
       "    <tr>\n",
       "      <th>9</th>\n",
       "      <td>84748</td>\n",
       "      <td>45499814</td>\n",
       "      <td>track</td>\n",
       "      <td>Life</td>\n",
       "    </tr>\n",
       "  </tbody>\n",
       "</table>\n",
       "</div>"
      ],
      "text/plain": [
       "    count        id   type                     name\n",
       "0  111062     53404  track  Smells Like Teen Spirit\n",
       "1  106921  33311009  track                 Believer\n",
       "2  101924    178529  track                     Numb\n",
       "3   99490  35505245  track               I Got Love\n",
       "4   86670  65851540  track                   Юность\n",
       "5   86246  24692821  track           Way Down We Go\n",
       "6   85886  32947997  track             Shape of You\n",
       "7   85244  51241318  track               In The End\n",
       "8   85042    795836  track        Shape Of My Heart\n",
       "9   84748  45499814  track                     Life"
      ]
     },
     "execution_count": 5,
     "metadata": {},
     "output_type": "execute_result"
    }
   ],
   "source": [
    "get_most_popular('track')[:10]"
   ]
  },
  {
   "cell_type": "markdown",
   "id": "b1c32a5a-d3be-4f96-8dd9-f7860951020c",
   "metadata": {},
   "source": [
    "Наиболее популярные жанры"
   ]
  },
  {
   "cell_type": "code",
   "execution_count": 6,
   "id": "8647733e",
   "metadata": {},
   "outputs": [
    {
     "data": {
      "text/html": [
       "<div>\n",
       "<style scoped>\n",
       "    .dataframe tbody tr th:only-of-type {\n",
       "        vertical-align: middle;\n",
       "    }\n",
       "\n",
       "    .dataframe tbody tr th {\n",
       "        vertical-align: top;\n",
       "    }\n",
       "\n",
       "    .dataframe thead th {\n",
       "        text-align: right;\n",
       "    }\n",
       "</style>\n",
       "<table border=\"1\" class=\"dataframe\">\n",
       "  <thead>\n",
       "    <tr style=\"text-align: right;\">\n",
       "      <th></th>\n",
       "      <th>id</th>\n",
       "      <th>count</th>\n",
       "      <th>type</th>\n",
       "      <th>name</th>\n",
       "    </tr>\n",
       "  </thead>\n",
       "  <tbody>\n",
       "    <tr>\n",
       "      <th>0</th>\n",
       "      <td>11</td>\n",
       "      <td>171702</td>\n",
       "      <td>genre</td>\n",
       "      <td>pop</td>\n",
       "    </tr>\n",
       "    <tr>\n",
       "      <th>1</th>\n",
       "      <td>75</td>\n",
       "      <td>129698</td>\n",
       "      <td>genre</td>\n",
       "      <td>rap</td>\n",
       "    </tr>\n",
       "    <tr>\n",
       "      <th>2</th>\n",
       "      <td>102</td>\n",
       "      <td>124158</td>\n",
       "      <td>genre</td>\n",
       "      <td>allrock</td>\n",
       "    </tr>\n",
       "    <tr>\n",
       "      <th>3</th>\n",
       "      <td>68</td>\n",
       "      <td>115774</td>\n",
       "      <td>genre</td>\n",
       "      <td>electronics</td>\n",
       "    </tr>\n",
       "    <tr>\n",
       "      <th>4</th>\n",
       "      <td>47</td>\n",
       "      <td>74948</td>\n",
       "      <td>genre</td>\n",
       "      <td>metal</td>\n",
       "    </tr>\n",
       "    <tr>\n",
       "      <th>5</th>\n",
       "      <td>3</td>\n",
       "      <td>66114</td>\n",
       "      <td>genre</td>\n",
       "      <td>rusrap</td>\n",
       "    </tr>\n",
       "    <tr>\n",
       "      <th>6</th>\n",
       "      <td>44</td>\n",
       "      <td>61088</td>\n",
       "      <td>genre</td>\n",
       "      <td>foreignrap</td>\n",
       "    </tr>\n",
       "    <tr>\n",
       "      <th>7</th>\n",
       "      <td>14</td>\n",
       "      <td>59072</td>\n",
       "      <td>genre</td>\n",
       "      <td>rock</td>\n",
       "    </tr>\n",
       "    <tr>\n",
       "      <th>8</th>\n",
       "      <td>16</td>\n",
       "      <td>52138</td>\n",
       "      <td>genre</td>\n",
       "      <td>dance</td>\n",
       "    </tr>\n",
       "    <tr>\n",
       "      <th>9</th>\n",
       "      <td>20</td>\n",
       "      <td>47058</td>\n",
       "      <td>genre</td>\n",
       "      <td>ruspop</td>\n",
       "    </tr>\n",
       "  </tbody>\n",
       "</table>\n",
       "</div>"
      ],
      "text/plain": [
       "    id   count   type         name\n",
       "0   11  171702  genre          pop\n",
       "1   75  129698  genre          rap\n",
       "2  102  124158  genre      allrock\n",
       "3   68  115774  genre  electronics\n",
       "4   47   74948  genre        metal\n",
       "5    3   66114  genre       rusrap\n",
       "6   44   61088  genre   foreignrap\n",
       "7   14   59072  genre         rock\n",
       "8   16   52138  genre        dance\n",
       "9   20   47058  genre       ruspop"
      ]
     },
     "execution_count": 6,
     "metadata": {},
     "output_type": "execute_result"
    }
   ],
   "source": [
    "get_most_popular('genre')[:10]"
   ]
  },
  {
   "cell_type": "markdown",
   "id": "15254e66-e80e-473b-ba24-abebea5ccac7",
   "metadata": {},
   "source": [
    "Треки, которые никто не прослушал"
   ]
  },
  {
   "cell_type": "code",
   "execution_count": 7,
   "id": "50bc50c6-2d83-4c7e-97fa-3e7627978438",
   "metadata": {},
   "outputs": [
    {
     "name": "stdout",
     "output_type": "stream",
     "text": [
      "Доля треков без прослушиваний: -1.9%\n",
      "Доля пользователей с 1 прослушиванием: 0.1%\n"
     ]
    }
   ],
   "source": [
    "# Доля невостребованных треков\n",
    "total_tracks = tracks['track_id'].nunique()\n",
    "active_tracks = interactions['track_id'].nunique()\n",
    "print(f\"Доля треков без прослушиваний: {(total_tracks - active_tracks)/total_tracks*100:.1f}%\")\n",
    "\n",
    "# Доля пользователей c одним прослушиванием\n",
    "one_time_users = (interactions['user_id'].value_counts() == 1).sum()\n",
    "print(f\"Доля пользователей с 1 прослушиванием: {one_time_users/interactions['user_id'].nunique()*100:.1f}%\")"
   ]
  },
  {
   "cell_type": "markdown",
   "id": "0d850a07-ef1e-462f-891a-1cf89f2e24ef",
   "metadata": {},
   "source": [
    "# Преобразование данных"
   ]
  },
  {
   "cell_type": "markdown",
   "id": "fabcf8d2-1192-4df5-b20b-fbb84689f57a",
   "metadata": {},
   "source": [
    "Преобразуем данные в формат, более пригодный для дальнейшего использования в расчётах рекомендаций."
   ]
  },
  {
   "cell_type": "code",
   "execution_count": 8,
   "id": "4774aba1",
   "metadata": {},
   "outputs": [],
   "source": [
    "interactions.drop(columns='month', inplace=True)"
   ]
  },
  {
   "cell_type": "code",
   "execution_count": 9,
   "id": "7c7c48a8",
   "metadata": {},
   "outputs": [
    {
     "name": "stdout",
     "output_type": "stream",
     "text": [
      "interactions: 5520.23 MB\n",
      "tracks: 351.76 MB\n",
      "catalog_names: 277.40 MB\n",
      "large_df: 7.63 MB\n",
      "MinMaxScaler: 0.00 MB\n",
      "CatBoostClassifier: 0.00 MB\n",
      "Pool: 0.00 MB\n",
      "Out: 0.00 MB\n",
      "monthly_listened: 0.00 MB\n",
      "In: 0.00 MB\n",
      "open: 0.00 MB\n",
      "load_dotenv: 0.00 MB\n",
      "send_to_s3: 0.00 MB\n",
      "show_memory_usage: 0.00 MB\n",
      "get_most_popular: 0.00 MB\n",
      "Доступно памяти: 33.65 GB\n",
      "Используется: 12.73 GB\n"
     ]
    }
   ],
   "source": [
    "show_memory_usage()"
   ]
  },
  {
   "cell_type": "markdown",
   "id": "35c6ec25",
   "metadata": {},
   "source": [
    "Удаляем треки с малым количеством прослушиваний"
   ]
  },
  {
   "cell_type": "code",
   "execution_count": 29,
   "id": "881cb20f",
   "metadata": {},
   "outputs": [
    {
     "name": "stdout",
     "output_type": "stream",
     "text": [
      "Было строк: 222629898\n",
      "Осталось строк: 220324055\n",
      "Уникальных треков осталось: 678502\n"
     ]
    }
   ],
   "source": [
    "# Считаем количество прослушиваний по каждому треку\n",
    "track_play_counts = interactions['track_id'].value_counts().rename('play_count')\n",
    "\n",
    "# Фильтруем треки с >10 прослушиваний\n",
    "popular_tracks = track_play_counts[track_play_counts > 10].index\n",
    "\n",
    "# Оставляем только строки с популярными треками\n",
    "filtered_interactions = interactions[interactions['track_id'].isin(popular_tracks)].copy()\n",
    "\n",
    "# Проверяем результат\n",
    "print(f\"Было строк: {len(interactions)}\")\n",
    "print(f\"Осталось строк: {len(filtered_interactions)}\")\n",
    "print(f\"Уникальных треков осталось: {filtered_interactions['track_id'].nunique()}\")"
   ]
  },
  {
   "cell_type": "code",
   "execution_count": 30,
   "id": "dc580ee3",
   "metadata": {},
   "outputs": [
    {
     "name": "stdout",
     "output_type": "stream",
     "text": [
      "interactions: 5463.05 MB\n",
      "tracks: 351.76 MB\n",
      "catalog_names: 277.40 MB\n",
      "large_df: 7.63 MB\n",
      "In: 0.00 MB\n",
      "open: 0.00 MB\n",
      "load_dotenv: 0.00 MB\n",
      "send_to_s3: 0.00 MB\n",
      "show_memory_usage: 0.00 MB\n",
      "get_most_popular: 0.00 MB\n",
      "AWS_SECRET_ACCESS_KEY: 0.00 MB\n",
      "S3_BUCKET_NAME: 0.00 MB\n",
      "AWS_S3_ENDPOINT_URL: 0.00 MB\n",
      "AWS_ACCESS_KEY_ID: 0.00 MB\n",
      "logging: 0.00 MB\n",
      "Доступно памяти: 33.65 GB\n",
      "Используется: 12.54 GB\n"
     ]
    }
   ],
   "source": [
    "interactions = filtered_interactions\n",
    "del filtered_interactions\n",
    "del popular_tracks\n",
    "del track_play_counts\n",
    "show_memory_usage()"
   ]
  },
  {
   "cell_type": "code",
   "execution_count": 31,
   "id": "a9819a4c",
   "metadata": {},
   "outputs": [
    {
     "data": {
      "text/html": [
       "<div>\n",
       "<style scoped>\n",
       "    .dataframe tbody tr th:only-of-type {\n",
       "        vertical-align: middle;\n",
       "    }\n",
       "\n",
       "    .dataframe tbody tr th {\n",
       "        vertical-align: top;\n",
       "    }\n",
       "\n",
       "    .dataframe thead th {\n",
       "        text-align: right;\n",
       "    }\n",
       "</style>\n",
       "<table border=\"1\" class=\"dataframe\">\n",
       "  <thead>\n",
       "    <tr style=\"text-align: right;\">\n",
       "      <th></th>\n",
       "      <th>track_id</th>\n",
       "      <th>albums</th>\n",
       "      <th>artists</th>\n",
       "      <th>genres</th>\n",
       "      <th>track_name</th>\n",
       "    </tr>\n",
       "  </thead>\n",
       "  <tbody>\n",
       "    <tr>\n",
       "      <th>0</th>\n",
       "      <td>26</td>\n",
       "      <td>{3: 'Taller Children', 2490753: 'Taller Childr...</td>\n",
       "      <td>{16: 'Elizabeth &amp; the Catapult'}</td>\n",
       "      <td>{11: 'pop', 21: 'folk'}</td>\n",
       "      <td>Complimentary Me</td>\n",
       "    </tr>\n",
       "    <tr>\n",
       "      <th>1</th>\n",
       "      <td>38</td>\n",
       "      <td>{3: 'Taller Children', 2490753: 'Taller Childr...</td>\n",
       "      <td>{16: 'Elizabeth &amp; the Catapult'}</td>\n",
       "      <td>{11: 'pop', 21: 'folk'}</td>\n",
       "      <td>Momma's Boy</td>\n",
       "    </tr>\n",
       "    <tr>\n",
       "      <th>2</th>\n",
       "      <td>135</td>\n",
       "      <td>{12: 'Wild Young Hearts', 214: 'Wild Young Hea...</td>\n",
       "      <td>{84: 'Noisettes'}</td>\n",
       "      <td>{11: 'pop'}</td>\n",
       "      <td>Atticus</td>\n",
       "    </tr>\n",
       "    <tr>\n",
       "      <th>3</th>\n",
       "      <td>136</td>\n",
       "      <td>{12: 'Wild Young Hearts', 214: 'Wild Young Hea...</td>\n",
       "      <td>{84: 'Noisettes'}</td>\n",
       "      <td>{11: 'pop'}</td>\n",
       "      <td>24 Hours</td>\n",
       "    </tr>\n",
       "    <tr>\n",
       "      <th>4</th>\n",
       "      <td>138</td>\n",
       "      <td>{12: 'Wild Young Hearts', 214: 'Wild Young Hea...</td>\n",
       "      <td>{84: 'Noisettes'}</td>\n",
       "      <td>{11: 'pop'}</td>\n",
       "      <td>Don't Upset The Rhythm (Go Baby Go)</td>\n",
       "    </tr>\n",
       "  </tbody>\n",
       "</table>\n",
       "</div>"
      ],
      "text/plain": [
       "   track_id                                             albums   \n",
       "0        26  {3: 'Taller Children', 2490753: 'Taller Childr...  \\\n",
       "1        38  {3: 'Taller Children', 2490753: 'Taller Childr...   \n",
       "2       135  {12: 'Wild Young Hearts', 214: 'Wild Young Hea...   \n",
       "3       136  {12: 'Wild Young Hearts', 214: 'Wild Young Hea...   \n",
       "4       138  {12: 'Wild Young Hearts', 214: 'Wild Young Hea...   \n",
       "\n",
       "                            artists                   genres   \n",
       "0  {16: 'Elizabeth & the Catapult'}  {11: 'pop', 21: 'folk'}  \\\n",
       "1  {16: 'Elizabeth & the Catapult'}  {11: 'pop', 21: 'folk'}   \n",
       "2                 {84: 'Noisettes'}              {11: 'pop'}   \n",
       "3                 {84: 'Noisettes'}              {11: 'pop'}   \n",
       "4                 {84: 'Noisettes'}              {11: 'pop'}   \n",
       "\n",
       "                            track_name  \n",
       "0                     Complimentary Me  \n",
       "1                          Momma's Boy  \n",
       "2                              Atticus  \n",
       "3                             24 Hours  \n",
       "4  Don't Upset The Rhythm (Go Baby Go)  "
      ]
     },
     "execution_count": 31,
     "metadata": {},
     "output_type": "execute_result"
    }
   ],
   "source": [
    "# собираем словари, для дальнейшего удобства\n",
    "id_mappings = {\n",
    "    'album': catalog_names[catalog_names['type'] == 'album'].set_index('id')['name'].to_dict(),\n",
    "    'artist': catalog_names[catalog_names['type'] == 'artist'].set_index('id')['name'].to_dict(),\n",
    "    'genre': catalog_names[catalog_names['type'] == 'genre'].set_index('id')['name'].to_dict(),\n",
    "    'track': catalog_names[catalog_names['type'] == 'track'].set_index('id')['name'].to_dict()\n",
    "}\n",
    "\n",
    "def decode_with_type(ids, element_type):\n",
    "    if isinstance(ids, str):\n",
    "        ids = ast.literal_eval(ids)\n",
    "    return {k: id_mappings[element_type].get(k, f'Unknown_{k}') for k in ids}\n",
    "\n",
    "# Применяем к каждому столбцу с учетом типа\n",
    "items = tracks.copy()\n",
    "items['albums'] = tracks['albums'].apply(lambda x: decode_with_type(x, 'album'))\n",
    "items['artists'] = tracks['artists'].apply(lambda x: decode_with_type(x, 'artist'))\n",
    "items['genres'] = tracks['genres'].apply(lambda x: decode_with_type(x, 'genre'))\n",
    "items['track_name'] = tracks['track_id'].map(id_mappings['track'])\n",
    "\n",
    "items.head()"
   ]
  },
  {
   "cell_type": "code",
   "execution_count": 32,
   "id": "01ee903a",
   "metadata": {},
   "outputs": [
    {
     "data": {
      "text/html": [
       "<div>\n",
       "<style scoped>\n",
       "    .dataframe tbody tr th:only-of-type {\n",
       "        vertical-align: middle;\n",
       "    }\n",
       "\n",
       "    .dataframe tbody tr th {\n",
       "        vertical-align: top;\n",
       "    }\n",
       "\n",
       "    .dataframe thead th {\n",
       "        text-align: right;\n",
       "    }\n",
       "</style>\n",
       "<table border=\"1\" class=\"dataframe\">\n",
       "  <thead>\n",
       "    <tr style=\"text-align: right;\">\n",
       "      <th></th>\n",
       "      <th>track_id</th>\n",
       "      <th>albums</th>\n",
       "      <th>artists</th>\n",
       "      <th>genres</th>\n",
       "      <th>track_name</th>\n",
       "    </tr>\n",
       "  </thead>\n",
       "  <tbody>\n",
       "    <tr>\n",
       "      <th>0</th>\n",
       "      <td>26</td>\n",
       "      <td>{\"3\": \"Taller Children\", \"2490753\": \"Taller Ch...</td>\n",
       "      <td>{\"16\": \"Elizabeth &amp; the Catapult\"}</td>\n",
       "      <td>{\"11\": \"pop\", \"21\": \"folk\"}</td>\n",
       "      <td>Complimentary Me</td>\n",
       "    </tr>\n",
       "    <tr>\n",
       "      <th>1</th>\n",
       "      <td>38</td>\n",
       "      <td>{\"3\": \"Taller Children\", \"2490753\": \"Taller Ch...</td>\n",
       "      <td>{\"16\": \"Elizabeth &amp; the Catapult\"}</td>\n",
       "      <td>{\"11\": \"pop\", \"21\": \"folk\"}</td>\n",
       "      <td>Momma's Boy</td>\n",
       "    </tr>\n",
       "    <tr>\n",
       "      <th>2</th>\n",
       "      <td>135</td>\n",
       "      <td>{\"12\": \"Wild Young Hearts\", \"214\": \"Wild Young...</td>\n",
       "      <td>{\"84\": \"Noisettes\"}</td>\n",
       "      <td>{\"11\": \"pop\"}</td>\n",
       "      <td>Atticus</td>\n",
       "    </tr>\n",
       "    <tr>\n",
       "      <th>3</th>\n",
       "      <td>136</td>\n",
       "      <td>{\"12\": \"Wild Young Hearts\", \"214\": \"Wild Young...</td>\n",
       "      <td>{\"84\": \"Noisettes\"}</td>\n",
       "      <td>{\"11\": \"pop\"}</td>\n",
       "      <td>24 Hours</td>\n",
       "    </tr>\n",
       "    <tr>\n",
       "      <th>4</th>\n",
       "      <td>138</td>\n",
       "      <td>{\"12\": \"Wild Young Hearts\", \"214\": \"Wild Young...</td>\n",
       "      <td>{\"84\": \"Noisettes\"}</td>\n",
       "      <td>{\"11\": \"pop\"}</td>\n",
       "      <td>Don't Upset The Rhythm (Go Baby Go)</td>\n",
       "    </tr>\n",
       "  </tbody>\n",
       "</table>\n",
       "</div>"
      ],
      "text/plain": [
       "   track_id                                             albums   \n",
       "0        26  {\"3\": \"Taller Children\", \"2490753\": \"Taller Ch...  \\\n",
       "1        38  {\"3\": \"Taller Children\", \"2490753\": \"Taller Ch...   \n",
       "2       135  {\"12\": \"Wild Young Hearts\", \"214\": \"Wild Young...   \n",
       "3       136  {\"12\": \"Wild Young Hearts\", \"214\": \"Wild Young...   \n",
       "4       138  {\"12\": \"Wild Young Hearts\", \"214\": \"Wild Young...   \n",
       "\n",
       "                              artists                       genres   \n",
       "0  {\"16\": \"Elizabeth & the Catapult\"}  {\"11\": \"pop\", \"21\": \"folk\"}  \\\n",
       "1  {\"16\": \"Elizabeth & the Catapult\"}  {\"11\": \"pop\", \"21\": \"folk\"}   \n",
       "2                 {\"84\": \"Noisettes\"}                {\"11\": \"pop\"}   \n",
       "3                 {\"84\": \"Noisettes\"}                {\"11\": \"pop\"}   \n",
       "4                 {\"84\": \"Noisettes\"}                {\"11\": \"pop\"}   \n",
       "\n",
       "                            track_name  \n",
       "0                     Complimentary Me  \n",
       "1                          Momma's Boy  \n",
       "2                              Atticus  \n",
       "3                             24 Hours  \n",
       "4  Don't Upset The Rhythm (Go Baby Go)  "
      ]
     },
     "execution_count": 32,
     "metadata": {},
     "output_type": "execute_result"
    }
   ],
   "source": [
    "# Преобразуем словари с числовыми ключами в строковые, так как при сохранении в parquet с числовыми ключами появляется ошибка\n",
    "def convert_dict_keys_to_str(d):\n",
    "    if isinstance(d, dict):\n",
    "        return {str(k): v for k, v in d.items()}\n",
    "    return d\n",
    "\n",
    "items['albums'] = items['albums'].apply(convert_dict_keys_to_str)\n",
    "items['artists'] = items['artists'].apply(convert_dict_keys_to_str)\n",
    "items['genres'] = items['genres'].apply(convert_dict_keys_to_str)\n",
    "\n",
    "items['albums'] = items['albums'].apply(lambda x: json.dumps(x, ensure_ascii=False) \n",
    "                                        if isinstance(x, dict) else x)\n",
    "items['artists'] = items['artists'].apply(lambda x: json.dumps(x, ensure_ascii=False) \n",
    "                                        if isinstance(x, dict) else x)\n",
    "items['genres'] = items['genres'].apply(lambda x: json.dumps(x, ensure_ascii=False) \n",
    "                                        if isinstance(x, dict) else x)\n",
    "\n",
    "items.head()"
   ]
  },
  {
   "cell_type": "markdown",
   "id": "4d1be653-eed8-4fa0-a9c5-3811b080d71d",
   "metadata": {},
   "source": [
    "# Сохранение данных"
   ]
  },
  {
   "cell_type": "markdown",
   "id": "36f1314a-3af3-4faf-a0b1-3045173d1500",
   "metadata": {},
   "source": [
    "Сохраним данные в двух файлах в персональном S3-бакете по пути `recsys/data/`:\n",
    "- `items.parquet` — все данные о музыкальных треках,\n",
    "- `events.parquet` — все данные о взаимодействиях."
   ]
  },
  {
   "cell_type": "code",
   "execution_count": 33,
   "id": "89ad36ea",
   "metadata": {},
   "outputs": [
    {
     "name": "stdout",
     "output_type": "stream",
     "text": [
      "interactions: 5463.05 MB\n",
      "items: 466.29 MB\n",
      "catalog_names: 277.40 MB\n",
      "large_df: 7.63 MB\n",
      "In: 0.00 MB\n",
      "Out: 0.00 MB\n",
      "id_mappings: 0.00 MB\n",
      "open: 0.00 MB\n",
      "load_dotenv: 0.00 MB\n",
      "send_to_s3: 0.00 MB\n",
      "show_memory_usage: 0.00 MB\n",
      "get_most_popular: 0.00 MB\n",
      "decode_with_type: 0.00 MB\n",
      "convert_dict_keys_to_str: 0.00 MB\n",
      "AWS_SECRET_ACCESS_KEY: 0.00 MB\n",
      "Доступно памяти: 33.65 GB\n",
      "Используется: 9.88 GB\n"
     ]
    }
   ],
   "source": [
    "del tracks\n",
    "show_memory_usage()"
   ]
  },
  {
   "cell_type": "code",
   "execution_count": 34,
   "id": "feacf915",
   "metadata": {},
   "outputs": [
    {
     "name": "stdout",
     "output_type": "stream",
     "text": [
      "Найдено 9689 треков в interactions, отсутствующих в items\n"
     ]
    }
   ],
   "source": [
    "unseen_tracks = set(interactions[\"track_id\"]) - set(items[\"track_id\"])\n",
    "print(f\"Найдено {len(unseen_tracks)} треков в interactions, отсутствующих в items\")"
   ]
  },
  {
   "cell_type": "code",
   "execution_count": 36,
   "id": "6a9adf8e",
   "metadata": {},
   "outputs": [
    {
     "name": "stdout",
     "output_type": "stream",
     "text": [
      "<class 'pandas.core.frame.DataFrame'>\n",
      "Index: 219944219 entries, 0 to 291\n",
      "Data columns (total 4 columns):\n",
      " #   Column      Dtype         \n",
      "---  ------      -----         \n",
      " 0   user_id     int32         \n",
      " 1   track_id    int32         \n",
      " 2   track_seq   int16         \n",
      " 3   started_at  datetime64[ns]\n",
      "dtypes: datetime64[ns](1), int16(1), int32(2)\n",
      "memory usage: 5.3 GB\n"
     ]
    }
   ],
   "source": [
    "interactions = interactions[interactions['track_id'].isin(items[\"track_id\"])]\n",
    "interactions.info()"
   ]
  },
  {
   "cell_type": "code",
   "execution_count": 37,
   "id": "f2049f1b",
   "metadata": {},
   "outputs": [
    {
     "name": "stdout",
     "output_type": "stream",
     "text": [
      "Успешно\n",
      "Успешно\n"
     ]
    }
   ],
   "source": [
    "# items.to_parquet(\"data/items.par\")\n",
    "items.to_parquet('data/items.parquet', engine='fastparquet', index=False)\n",
    "interactions.to_parquet(\"data/events.parquet\")\n",
    "send_to_s3('recsys/data/', 'data/items.parquet', S3_BUCKET_NAME)\n",
    "send_to_s3('recsys/data/', 'data/events.parquet', S3_BUCKET_NAME)"
   ]
  },
  {
   "cell_type": "markdown",
   "id": "72ecbbed-c560-44d9-9c14-86c7dc76f399",
   "metadata": {},
   "source": [
    "# Очистка памяти"
   ]
  },
  {
   "cell_type": "markdown",
   "id": "b5358ede-ba6e-4c4f-bd73-5b9344f0ba79",
   "metadata": {},
   "source": [
    "Здесь, может понадобится очистка памяти для высвобождения ресурсов для выполнения кода ниже. \n",
    "\n",
    "Приведите соответствующие код, комментарии, например:\n",
    "- код для удаление более ненужных переменных,\n",
    "- комментарий, что следует перезапустить kernel, выполнить такие-то начальные секции и продолжить с этапа 3."
   ]
  },
  {
   "cell_type": "markdown",
   "id": "f1613f4e",
   "metadata": {},
   "source": [
    "Необходимо перезапустить kernel и выполнить первую ячейку и двигаться по ячейкам ниже"
   ]
  },
  {
   "cell_type": "markdown",
   "id": "708503df-ee89-4cf3-8489-093dc478e2a8",
   "metadata": {},
   "source": [
    "# === ЭТАП 3 ==="
   ]
  },
  {
   "cell_type": "markdown",
   "id": "fd77de22-e10f-4b42-85c1-8fb6f805fe68",
   "metadata": {},
   "source": [
    "# Загрузка данных"
   ]
  },
  {
   "cell_type": "markdown",
   "id": "780a4241-1ecd-4a3e-bbb3-fc2f6ca94f68",
   "metadata": {},
   "source": [
    "Если необходимо, то загружаем items.parquet, events.parquet."
   ]
  },
  {
   "cell_type": "code",
   "execution_count": 2,
   "id": "6fb7554b",
   "metadata": {},
   "outputs": [
    {
     "name": "stdout",
     "output_type": "stream",
     "text": [
      "events: 5453.63 MB\n",
      "items: 458.80 MB\n",
      "large_df: 7.63 MB\n",
      "MinMaxScaler: 0.00 MB\n",
      "CatBoostClassifier: 0.00 MB\n",
      "Pool: 0.00 MB\n",
      "open: 0.00 MB\n",
      "load_dotenv: 0.00 MB\n",
      "send_to_s3: 0.00 MB\n",
      "show_memory_usage: 0.00 MB\n",
      "get_most_popular: 0.00 MB\n",
      "In: 0.00 MB\n",
      "AWS_SECRET_ACCESS_KEY: 0.00 MB\n",
      "S3_BUCKET_NAME: 0.00 MB\n",
      "AWS_S3_ENDPOINT_URL: 0.00 MB\n",
      "Доступно памяти: 33.65 GB\n",
      "Используется: 14.04 GB\n"
     ]
    }
   ],
   "source": [
    "items = pd.read_parquet('data/items.parquet')\n",
    "events = pd.read_parquet(\"data/events.parquet\")\n",
    "show_memory_usage()"
   ]
  },
  {
   "cell_type": "markdown",
   "id": "a694c023-6477-490b-939d-1cfa6f5f1b72",
   "metadata": {},
   "source": [
    "# Разбиение данных"
   ]
  },
  {
   "cell_type": "markdown",
   "id": "fbd5f6e0-54e7-4428-8678-eabce505d82c",
   "metadata": {},
   "source": [
    "Разбиваем данные на тренировочную, тестовую выборки."
   ]
  },
  {
   "cell_type": "code",
   "execution_count": 3,
   "id": "26fe3e3c-8c5f-4437-bf13-9191adef08bb",
   "metadata": {},
   "outputs": [
    {
     "name": "stdout",
     "output_type": "stream",
     "text": [
      "1341439 778291 747524\n",
      "30767\n"
     ]
    }
   ],
   "source": [
    "# зададим точку разбиения согласно заданию\n",
    "train_test_global_time_split_date = pd.to_datetime(\"2022-12-16\").date()\n",
    "\n",
    "train_test_global_time_split_idx = events[\"started_at\"].dt.date < train_test_global_time_split_date\n",
    "events_train = events[train_test_global_time_split_idx]\n",
    "events_test = events[~train_test_global_time_split_idx]\n",
    "\n",
    "# количество пользователей в train и test\n",
    "users_train = events_train[\"user_id\"].drop_duplicates()\n",
    "users_test = events_test[\"user_id\"].drop_duplicates()\n",
    "# количество пользователей, которые есть и в train, и в test\n",
    "common_users = set(users_train) & set(users_test)\n",
    "\n",
    "print(len(users_train), len(users_test), len(common_users))\n",
    "\n",
    "# «Холодные» пользователи — те, которые есть в test, но отсутствуют в train. \n",
    "# Это соответствует хронологическому порядку, в котором и работает рекомендательная система.\n",
    "cold_users = set(users_test.unique()) - set(users_train.unique())\n",
    "\n",
    "print(len(cold_users))"
   ]
  },
  {
   "cell_type": "markdown",
   "id": "9131c7e6-8852-4556-b510-51f7253cc299",
   "metadata": {},
   "source": [
    "# Топ популярных"
   ]
  },
  {
   "cell_type": "markdown",
   "id": "dd70d43a-88cc-4719-b291-feaed7136f30",
   "metadata": {},
   "source": [
    "Рассчитаем рекомендации как топ популярных."
   ]
  },
  {
   "cell_type": "code",
   "execution_count": 8,
   "id": "a3c3061c",
   "metadata": {},
   "outputs": [
    {
     "data": {
      "text/html": [
       "<div>\n",
       "<style scoped>\n",
       "    .dataframe tbody tr th:only-of-type {\n",
       "        vertical-align: middle;\n",
       "    }\n",
       "\n",
       "    .dataframe tbody tr th {\n",
       "        vertical-align: top;\n",
       "    }\n",
       "\n",
       "    .dataframe thead th {\n",
       "        text-align: right;\n",
       "    }\n",
       "</style>\n",
       "<table border=\"1\" class=\"dataframe\">\n",
       "  <thead>\n",
       "    <tr style=\"text-align: right;\">\n",
       "      <th></th>\n",
       "      <th>track_id</th>\n",
       "      <th>count</th>\n",
       "      <th>albums</th>\n",
       "      <th>artists</th>\n",
       "      <th>genres</th>\n",
       "      <th>track_name</th>\n",
       "      <th>users</th>\n",
       "      <th>avg_rating</th>\n",
       "    </tr>\n",
       "  </thead>\n",
       "  <tbody>\n",
       "    <tr>\n",
       "      <th>0</th>\n",
       "      <td>53404</td>\n",
       "      <td>111062</td>\n",
       "      <td>{\"4367\": \"Nevermind\", \"89708\": \"Nirvana\", \"294...</td>\n",
       "      <td>{\"9262\": \"Nirvana\"}</td>\n",
       "      <td>{\"13\": \"alternative\", \"14\": \"rock\", \"102\": \"al...</td>\n",
       "      <td>Smells Like Teen Spirit</td>\n",
       "      <td>111062</td>\n",
       "      <td>17.265590</td>\n",
       "    </tr>\n",
       "    <tr>\n",
       "      <th>1</th>\n",
       "      <td>33311009</td>\n",
       "      <td>106921</td>\n",
       "      <td>{\"4440454\": \"Shape Of Pop\", \"4456609\": \"NOW Th...</td>\n",
       "      <td>{\"675068\": \"Imagine Dragons\"}</td>\n",
       "      <td>{\"14\": \"rock\", \"102\": \"allrock\"}</td>\n",
       "      <td>Believer</td>\n",
       "      <td>106921</td>\n",
       "      <td>218.685254</td>\n",
       "    </tr>\n",
       "    <tr>\n",
       "      <th>2</th>\n",
       "      <td>178529</td>\n",
       "      <td>101924</td>\n",
       "      <td>{\"18113\": \"Meteora\", \"21924\": \"Meteora\", \"2194...</td>\n",
       "      <td>{\"36800\": \"Linkin Park\"}</td>\n",
       "      <td>{\"41\": \"numetal\", \"47\": \"metal\"}</td>\n",
       "      <td>Numb</td>\n",
       "      <td>101924</td>\n",
       "      <td>37.842608</td>\n",
       "    </tr>\n",
       "    <tr>\n",
       "      <th>3</th>\n",
       "      <td>35505245</td>\n",
       "      <td>99490</td>\n",
       "      <td>{\"4431303\": \"I Got Love\", \"20559909\": \"I Got L...</td>\n",
       "      <td>{\"4611844\": \"Miyagi &amp; Эндшпиль\", \"588511\": \"Ре...</td>\n",
       "      <td>{\"3\": \"rusrap\", \"75\": \"rap\"}</td>\n",
       "      <td>I Got Love</td>\n",
       "      <td>99490</td>\n",
       "      <td>152.547653</td>\n",
       "    </tr>\n",
       "    <tr>\n",
       "      <th>4</th>\n",
       "      <td>65851540</td>\n",
       "      <td>86670</td>\n",
       "      <td>{\"10692414\": \"Юность\"}</td>\n",
       "      <td>{\"1554548\": \"Dabro\"}</td>\n",
       "      <td>{\"11\": \"pop\", \"20\": \"ruspop\"}</td>\n",
       "      <td>Юность</td>\n",
       "      <td>86670</td>\n",
       "      <td>280.660102</td>\n",
       "    </tr>\n",
       "  </tbody>\n",
       "</table>\n",
       "</div>"
      ],
      "text/plain": [
       "   track_id   count                                             albums   \n",
       "0     53404  111062  {\"4367\": \"Nevermind\", \"89708\": \"Nirvana\", \"294...  \\\n",
       "1  33311009  106921  {\"4440454\": \"Shape Of Pop\", \"4456609\": \"NOW Th...   \n",
       "2    178529  101924  {\"18113\": \"Meteora\", \"21924\": \"Meteora\", \"2194...   \n",
       "3  35505245   99490  {\"4431303\": \"I Got Love\", \"20559909\": \"I Got L...   \n",
       "4  65851540   86670                             {\"10692414\": \"Юность\"}   \n",
       "\n",
       "                                             artists   \n",
       "0                                {\"9262\": \"Nirvana\"}  \\\n",
       "1                      {\"675068\": \"Imagine Dragons\"}   \n",
       "2                           {\"36800\": \"Linkin Park\"}   \n",
       "3  {\"4611844\": \"Miyagi & Эндшпиль\", \"588511\": \"Ре...   \n",
       "4                               {\"1554548\": \"Dabro\"}   \n",
       "\n",
       "                                              genres               track_name   \n",
       "0  {\"13\": \"alternative\", \"14\": \"rock\", \"102\": \"al...  Smells Like Teen Spirit  \\\n",
       "1                   {\"14\": \"rock\", \"102\": \"allrock\"}                 Believer   \n",
       "2                   {\"41\": \"numetal\", \"47\": \"metal\"}                     Numb   \n",
       "3                       {\"3\": \"rusrap\", \"75\": \"rap\"}               I Got Love   \n",
       "4                      {\"11\": \"pop\", \"20\": \"ruspop\"}                   Юность   \n",
       "\n",
       "    users  avg_rating  \n",
       "0  111062   17.265590  \n",
       "1  106921  218.685254  \n",
       "2  101924   37.842608  \n",
       "3   99490  152.547653  \n",
       "4   86670  280.660102  "
      ]
     },
     "execution_count": 8,
     "metadata": {},
     "output_type": "execute_result"
    }
   ],
   "source": [
    "item_popularity = pd.DataFrame(events['track_id'].value_counts()\n",
    "                            ).merge(items, on='track_id',\n",
    "                            how='inner').sort_values('count', ascending=False)\n",
    "\n",
    "item_popularity = pd.merge(item_popularity, events.groupby('track_id').agg(users=(\"user_id\", \"nunique\"), \n",
    "                            avg_rating=(\"track_seq\", \"mean\")).reset_index())\n",
    "\n",
    "item_popularity.head()"
   ]
  },
  {
   "cell_type": "code",
   "execution_count": 9,
   "id": "dc079137",
   "metadata": {},
   "outputs": [
    {
     "name": "stdout",
     "output_type": "stream",
     "text": [
      "Успешно\n"
     ]
    }
   ],
   "source": [
    "# нормализация пользователей и среднего рейтинга, требуется для их приведения к одному масштабу\n",
    "\n",
    "scaler_rating = MinMaxScaler(feature_range=(0, 1))\n",
    "item_popularity[[\"listen_pop_score\", \"track_seq_score\"]] = scaler_rating.fit_transform(\n",
    "    item_popularity[[\"count\", \"avg_rating\"]]\n",
    ")\n",
    "\n",
    "item_popularity['track_seq_score'] = 1 - item_popularity['track_seq_score']\n",
    "\n",
    "item_popularity.drop(columns=['users', 'avg_rating'], inplace=True)\n",
    "item_popularity.head()\n",
    "# item_popularity.to_parquet(\"models/top_popular.parquet\")\n",
    "# send_to_s3('recsys/recommendations/', 'models/top_popular.parquet', S3_BUCKET_NAME)"
   ]
  },
  {
   "cell_type": "code",
   "execution_count": 7,
   "id": "c6ddf319",
   "metadata": {},
   "outputs": [
    {
     "data": {
      "text/html": [
       "<div>\n",
       "<style scoped>\n",
       "    .dataframe tbody tr th:only-of-type {\n",
       "        vertical-align: middle;\n",
       "    }\n",
       "\n",
       "    .dataframe tbody tr th {\n",
       "        vertical-align: top;\n",
       "    }\n",
       "\n",
       "    .dataframe thead th {\n",
       "        text-align: right;\n",
       "    }\n",
       "</style>\n",
       "<table border=\"1\" class=\"dataframe\">\n",
       "  <thead>\n",
       "    <tr style=\"text-align: right;\">\n",
       "      <th></th>\n",
       "      <th>user_id</th>\n",
       "      <th>track_id</th>\n",
       "      <th>popularity_score</th>\n",
       "    </tr>\n",
       "  </thead>\n",
       "  <tbody>\n",
       "    <tr>\n",
       "      <th>204</th>\n",
       "      <td>148</td>\n",
       "      <td>53404</td>\n",
       "      <td>0.996740</td>\n",
       "    </tr>\n",
       "    <tr>\n",
       "      <th>212</th>\n",
       "      <td>148</td>\n",
       "      <td>178529</td>\n",
       "      <td>0.910936</td>\n",
       "    </tr>\n",
       "    <tr>\n",
       "      <th>557</th>\n",
       "      <td>352</td>\n",
       "      <td>35505245</td>\n",
       "      <td>0.868585</td>\n",
       "    </tr>\n",
       "    <tr>\n",
       "      <th>708</th>\n",
       "      <td>378</td>\n",
       "      <td>53404</td>\n",
       "      <td>0.996740</td>\n",
       "    </tr>\n",
       "    <tr>\n",
       "      <th>978</th>\n",
       "      <td>435</td>\n",
       "      <td>178529</td>\n",
       "      <td>0.910936</td>\n",
       "    </tr>\n",
       "    <tr>\n",
       "      <th>...</th>\n",
       "      <td>...</td>\n",
       "      <td>...</td>\n",
       "      <td>...</td>\n",
       "    </tr>\n",
       "    <tr>\n",
       "      <th>3989143</th>\n",
       "      <td>1373981</td>\n",
       "      <td>53404</td>\n",
       "      <td>0.996740</td>\n",
       "    </tr>\n",
       "    <tr>\n",
       "      <th>3989265</th>\n",
       "      <td>1374014</td>\n",
       "      <td>33311009</td>\n",
       "      <td>0.920705</td>\n",
       "    </tr>\n",
       "    <tr>\n",
       "      <th>3989355</th>\n",
       "      <td>1374027</td>\n",
       "      <td>33311009</td>\n",
       "      <td>0.920705</td>\n",
       "    </tr>\n",
       "    <tr>\n",
       "      <th>3989651</th>\n",
       "      <td>1374057</td>\n",
       "      <td>35505245</td>\n",
       "      <td>0.868585</td>\n",
       "    </tr>\n",
       "    <tr>\n",
       "      <th>3990808</th>\n",
       "      <td>1374420</td>\n",
       "      <td>33311009</td>\n",
       "      <td>0.920705</td>\n",
       "    </tr>\n",
       "  </tbody>\n",
       "</table>\n",
       "<p>13489 rows × 3 columns</p>\n",
       "</div>"
      ],
      "text/plain": [
       "         user_id  track_id  popularity_score\n",
       "204          148     53404          0.996740\n",
       "212          148    178529          0.910936\n",
       "557          352  35505245          0.868585\n",
       "708          378     53404          0.996740\n",
       "978          435    178529          0.910936\n",
       "...          ...       ...               ...\n",
       "3989143  1373981     53404          0.996740\n",
       "3989265  1374014  33311009          0.920705\n",
       "3989355  1374027  33311009          0.920705\n",
       "3989651  1374057  35505245          0.868585\n",
       "3990808  1374420  33311009          0.920705\n",
       "\n",
       "[13489 rows x 3 columns]"
      ]
     },
     "execution_count": 7,
     "metadata": {},
     "output_type": "execute_result"
    }
   ],
   "source": [
    "cold_users_events_with_recs = \\\n",
    "    events_test[events_test[\"user_id\"].isin(cold_users)] \\\n",
    "    .merge(item_popularity, on=\"track_id\", how=\"left\")\n",
    "cold_users_events_with_recs.head()\n",
    "\n",
    "cold_user_items_no_avg_rating_idx = cold_users_events_with_recs[\"popularity_score\"].isnull()\n",
    "cold_user_recs = cold_users_events_with_recs[~cold_user_items_no_avg_rating_idx] \\\n",
    "    [[\"user_id\", \"track_id\", \"popularity_score\"]]\n",
    "cold_user_recs"
   ]
  },
  {
   "cell_type": "code",
   "execution_count": 8,
   "id": "40b074b5",
   "metadata": {},
   "outputs": [
    {
     "name": "stdout",
     "output_type": "stream",
     "text": [
      "3991625\n",
      "3991625\n",
      "13489\n",
      "Доля событий «холодных» пользователей в events_test 0.0\n"
     ]
    }
   ],
   "source": [
    "print(len(cold_users_events_with_recs))\n",
    "print(len(cold_user_items_no_avg_rating_idx))\n",
    "print(len(cold_user_recs))\n",
    "print(f'Доля событий «холодных» пользователей в events_test {round(len(cold_user_recs)/len(cold_user_items_no_avg_rating_idx), 2)}')"
   ]
  },
  {
   "cell_type": "markdown",
   "id": "2ad231f2-6158-421a-b7fa-01d8bc3ed572",
   "metadata": {},
   "source": [
    "# Персональные"
   ]
  },
  {
   "cell_type": "markdown",
   "id": "86159460-cd9d-4b63-8248-604ea3c9aebf",
   "metadata": {},
   "source": [
    "Рассчитаем персональные рекомендации."
   ]
  },
  {
   "cell_type": "code",
   "execution_count": 7,
   "id": "8136b134",
   "metadata": {},
   "outputs": [
    {
     "data": {
      "text/plain": [
       "0.9997603438758114"
      ]
     },
     "execution_count": 7,
     "metadata": {},
     "output_type": "execute_result"
    }
   ],
   "source": [
    "# Количество всех ячеек\n",
    "all_cells = events['user_id'].nunique() * events['track_id'].nunique()\n",
    "# Количество заполненных ячеек можем подсчитать в виде соотношения пользователя с книгой и оценкой\n",
    "rec_cells = len(events[['user_id', 'track_id', 'track_seq']])\n",
    "sparcity = 1-(rec_cells/all_cells)\n",
    "sparcity"
   ]
  },
  {
   "cell_type": "code",
   "execution_count": 5,
   "id": "b9615c14",
   "metadata": {},
   "outputs": [
    {
     "name": "stderr",
     "output_type": "stream",
     "text": [
      "/tmp/ipykernel_2253/519752672.py:5: SettingWithCopyWarning: \n",
      "A value is trying to be set on a copy of a slice from a DataFrame.\n",
      "Try using .loc[row_indexer,col_indexer] = value instead\n",
      "\n",
      "See the caveats in the documentation: https://pandas.pydata.org/pandas-docs/stable/user_guide/indexing.html#returning-a-view-versus-a-copy\n",
      "  events_train[\"user_id_enc\"] = user_encoder.transform(events_train[\"user_id\"])\n",
      "/tmp/ipykernel_2253/519752672.py:6: SettingWithCopyWarning: \n",
      "A value is trying to be set on a copy of a slice from a DataFrame.\n",
      "Try using .loc[row_indexer,col_indexer] = value instead\n",
      "\n",
      "See the caveats in the documentation: https://pandas.pydata.org/pandas-docs/stable/user_guide/indexing.html#returning-a-view-versus-a-copy\n",
      "  events_test[\"user_id_enc\"] = user_encoder.transform(events_test[\"user_id\"])\n",
      "/tmp/ipykernel_2253/519752672.py:13: SettingWithCopyWarning: \n",
      "A value is trying to be set on a copy of a slice from a DataFrame.\n",
      "Try using .loc[row_indexer,col_indexer] = value instead\n",
      "\n",
      "See the caveats in the documentation: https://pandas.pydata.org/pandas-docs/stable/user_guide/indexing.html#returning-a-view-versus-a-copy\n",
      "  events_train[\"track_id_enc\"] = item_encoder.transform(events_train[\"track_id\"]) # ваш код здесь #\n"
     ]
    },
    {
     "name": "stdout",
     "output_type": "stream",
     "text": [
      "980976\n"
     ]
    },
    {
     "name": "stderr",
     "output_type": "stream",
     "text": [
      "/tmp/ipykernel_2253/519752672.py:14: SettingWithCopyWarning: \n",
      "A value is trying to be set on a copy of a slice from a DataFrame.\n",
      "Try using .loc[row_indexer,col_indexer] = value instead\n",
      "\n",
      "See the caveats in the documentation: https://pandas.pydata.org/pandas-docs/stable/user_guide/indexing.html#returning-a-view-versus-a-copy\n",
      "  events_test[\"track_id_enc\"] = item_encoder.transform(events_test[\"track_id\"]) # ваш код здесь #\n"
     ]
    }
   ],
   "source": [
    "# перекодируем идентификаторы пользователей: \n",
    "# из имеющихся в последовательность 0, 1, 2, ...\n",
    "user_encoder = sklearn.preprocessing.LabelEncoder()\n",
    "user_encoder.fit(events[\"user_id\"])\n",
    "events_train[\"user_id_enc\"] = user_encoder.transform(events_train[\"user_id\"])\n",
    "events_test[\"user_id_enc\"] = user_encoder.transform(events_test[\"user_id\"])\n",
    "\n",
    "# перекодируем идентификаторы объектов: \n",
    "# из имеющихся в последовательность 0, 1, 2, ...\n",
    "item_encoder = sklearn.preprocessing.LabelEncoder()\n",
    "item_encoder.fit(items[\"track_id\"])\n",
    "items[\"track_id_enc\"] = item_encoder.transform(items[\"track_id\"])\n",
    "events_train[\"track_id_enc\"] = item_encoder.transform(events_train[\"track_id\"]) \n",
    "events_test[\"track_id_enc\"] = item_encoder.transform(events_test[\"track_id\"]) \n",
    "\n",
    "print(events_train['track_id_enc'].max())"
   ]
  },
  {
   "cell_type": "code",
   "execution_count": 6,
   "id": "27b81de5",
   "metadata": {},
   "outputs": [
    {
     "data": {
      "text/plain": [
       "805.7342693535611"
      ]
     },
     "execution_count": 6,
     "metadata": {},
     "output_type": "execute_result"
    }
   ],
   "source": [
    "# Количество всех ячеек\n",
    "all_cells = events_train['user_id_enc'].nunique() * events_train['track_id_enc'].nunique()\n",
    "all_cells/(1024**3)"
   ]
  },
  {
   "cell_type": "code",
   "execution_count": 8,
   "id": "4e65c294",
   "metadata": {},
   "outputs": [
    {
     "data": {
      "text/html": [
       "<div>\n",
       "<style scoped>\n",
       "    .dataframe tbody tr th:only-of-type {\n",
       "        vertical-align: middle;\n",
       "    }\n",
       "\n",
       "    .dataframe tbody tr th {\n",
       "        vertical-align: top;\n",
       "    }\n",
       "\n",
       "    .dataframe thead th {\n",
       "        text-align: right;\n",
       "    }\n",
       "</style>\n",
       "<table border=\"1\" class=\"dataframe\">\n",
       "  <thead>\n",
       "    <tr style=\"text-align: right;\">\n",
       "      <th></th>\n",
       "      <th>user_id</th>\n",
       "      <th>track_id</th>\n",
       "      <th>track_seq</th>\n",
       "      <th>started_at</th>\n",
       "      <th>user_id_enc</th>\n",
       "      <th>track_id_enc</th>\n",
       "    </tr>\n",
       "  </thead>\n",
       "  <tbody>\n",
       "    <tr>\n",
       "      <th>0</th>\n",
       "      <td>0</td>\n",
       "      <td>99262</td>\n",
       "      <td>1</td>\n",
       "      <td>2022-07-17</td>\n",
       "      <td>0</td>\n",
       "      <td>16061</td>\n",
       "    </tr>\n",
       "    <tr>\n",
       "      <th>1</th>\n",
       "      <td>0</td>\n",
       "      <td>589498</td>\n",
       "      <td>2</td>\n",
       "      <td>2022-07-19</td>\n",
       "      <td>0</td>\n",
       "      <td>60471</td>\n",
       "    </tr>\n",
       "    <tr>\n",
       "      <th>2</th>\n",
       "      <td>0</td>\n",
       "      <td>590262</td>\n",
       "      <td>3</td>\n",
       "      <td>2022-07-21</td>\n",
       "      <td>0</td>\n",
       "      <td>60944</td>\n",
       "    </tr>\n",
       "    <tr>\n",
       "      <th>3</th>\n",
       "      <td>0</td>\n",
       "      <td>590303</td>\n",
       "      <td>4</td>\n",
       "      <td>2022-07-22</td>\n",
       "      <td>0</td>\n",
       "      <td>60967</td>\n",
       "    </tr>\n",
       "    <tr>\n",
       "      <th>4</th>\n",
       "      <td>0</td>\n",
       "      <td>590692</td>\n",
       "      <td>5</td>\n",
       "      <td>2022-07-22</td>\n",
       "      <td>0</td>\n",
       "      <td>61192</td>\n",
       "    </tr>\n",
       "  </tbody>\n",
       "</table>\n",
       "</div>"
      ],
      "text/plain": [
       "   user_id  track_id  track_seq started_at  user_id_enc  track_id_enc\n",
       "0        0     99262          1 2022-07-17            0         16061\n",
       "1        0    589498          2 2022-07-19            0         60471\n",
       "2        0    590262          3 2022-07-21            0         60944\n",
       "3        0    590303          4 2022-07-22            0         60967\n",
       "4        0    590692          5 2022-07-22            0         61192"
      ]
     },
     "execution_count": 8,
     "metadata": {},
     "output_type": "execute_result"
    }
   ],
   "source": [
    "events_train.head()"
   ]
  },
  {
   "cell_type": "code",
   "execution_count": 5,
   "id": "ec55e6e5",
   "metadata": {},
   "outputs": [
    {
     "name": "stdout",
     "output_type": "stream",
     "text": [
      "events_train: 8262.77 MB\n",
      "events_test: 546.94 MB\n",
      "users_train: 15.35 MB\n",
      "users_test: 8.91 MB\n",
      "large_df: 7.63 MB\n",
      "MinMaxScaler: 0.00 MB\n",
      "Out: 0.00 MB\n",
      "open: 0.00 MB\n",
      "load_dotenv: 0.00 MB\n",
      "send_to_s3: 0.00 MB\n",
      "show_memory_usage: 0.00 MB\n",
      "get_most_popular: 0.00 MB\n",
      "In: 0.00 MB\n",
      "AWS_SECRET_ACCESS_KEY: 0.00 MB\n",
      "S3_BUCKET_NAME: 0.00 MB\n",
      "Доступно памяти: 33.65 GB\n",
      "Используется: 12.78 GB\n"
     ]
    }
   ],
   "source": [
    "show_memory_usage()"
   ]
  },
  {
   "cell_type": "code",
   "execution_count": 6,
   "id": "5ec88b7c",
   "metadata": {},
   "outputs": [],
   "source": [
    "# создаём sparse-матрицу формата CSR \n",
    "user_item_matrix_train = scipy.sparse.csr_matrix((\n",
    "    events_train[\"track_seq\"],\n",
    "    (events_train['user_id_enc'], events_train['track_id_enc'])),\n",
    "    dtype=np.int8)"
   ]
  },
  {
   "cell_type": "code",
   "execution_count": 10,
   "id": "2b48ff55",
   "metadata": {},
   "outputs": [
    {
     "data": {
      "text/plain": [
       "4.409769433550537"
      ]
     },
     "execution_count": 10,
     "metadata": {},
     "output_type": "execute_result"
    }
   ],
   "source": [
    "import sys\n",
    "\n",
    "sum([sys.getsizeof(i) for i in user_item_matrix_train.data])/1024**3"
   ]
  },
  {
   "cell_type": "code",
   "execution_count": null,
   "id": "9fcb00f5",
   "metadata": {},
   "outputs": [],
   "source": [
    "from implicit.als import AlternatingLeastSquares\n",
    "\n",
    "# als_model = AlternatingLeastSquares(factors=50, iterations=15, regularization=0.05, random_state=0)\n",
    "# als_model.fit(user_item_matrix_train)\n",
    "# als_model.save(\"models/als_model.npz\")"
   ]
  },
  {
   "cell_type": "code",
   "execution_count": 7,
   "id": "2070156e",
   "metadata": {},
   "outputs": [
    {
     "name": "stderr",
     "output_type": "stream",
     "text": [
      "/home/mle-user/.venv/lib/python3.10/site-packages/implicit/cpu/als.py:95: RuntimeWarning: OpenBLAS is configured to use 4 threads. It is highly recommended to disable its internal threadpool by setting the environment variable 'OPENBLAS_NUM_THREADS=1' or by calling 'threadpoolctl.threadpool_limits(1, \"blas\")'. Having OpenBLAS use a threadpool can lead to severe performance issues here.\n",
      "  check_blas_config()\n"
     ]
    }
   ],
   "source": [
    "import implicit\n",
    "als_model = implicit.als.AlternatingLeastSquares()\n",
    "als_model = als_model.load(\"models/als_model.npz\")"
   ]
  },
  {
   "cell_type": "markdown",
   "id": "2887e9af",
   "metadata": {},
   "source": [
    "Получим рекомендации для всех имеющихся пользователей."
   ]
  },
  {
   "cell_type": "code",
   "execution_count": 9,
   "id": "7bfadb98",
   "metadata": {},
   "outputs": [
    {
     "name": "stdout",
     "output_type": "stream",
     "text": [
      "common_users: 32.00 MB\n",
      "users_train: 15.35 MB\n",
      "users_test: 8.91 MB\n",
      "large_df: 7.63 MB\n",
      "cold_users: 2.00 MB\n",
      "MinMaxScaler: 0.00 MB\n",
      "In: 0.00 MB\n",
      "open: 0.00 MB\n",
      "load_dotenv: 0.00 MB\n",
      "send_to_s3: 0.00 MB\n",
      "show_memory_usage: 0.00 MB\n",
      "get_most_popular: 0.00 MB\n",
      "AWS_SECRET_ACCESS_KEY: 0.00 MB\n",
      "S3_BUCKET_NAME: 0.00 MB\n",
      "AWS_S3_ENDPOINT_URL: 0.00 MB\n",
      "Доступно памяти: 33.65 GB\n",
      "Используется: 10.09 GB\n"
     ]
    }
   ],
   "source": [
    "del train_test_global_time_split_idx\n",
    "del events\n",
    "del events_train\n",
    "del events_test\n",
    "del items\n",
    "\n",
    "show_memory_usage()"
   ]
  },
  {
   "cell_type": "code",
   "execution_count": 10,
   "id": "51f03017",
   "metadata": {},
   "outputs": [],
   "source": [
    "# получаем список всех возможных user_id (перекодированных)\n",
    "user_ids_encoded = range(len(user_encoder.classes_))\n",
    "\n",
    "# получаем рекомендации для всех пользователей\n",
    "als_recommendations = als_model.recommend(\n",
    "    user_ids_encoded, \n",
    "    user_item_matrix_train[user_ids_encoded], \n",
    "    filter_already_liked_items=False, N=100)"
   ]
  },
  {
   "cell_type": "markdown",
   "id": "9f5d88cb",
   "metadata": {},
   "source": [
    "Код возвращает рекомендации как список списков, это не очень удобно. Преобразуем его в более удобный формат — табличный."
   ]
  },
  {
   "cell_type": "code",
   "execution_count": 11,
   "id": "52767d81",
   "metadata": {},
   "outputs": [],
   "source": [
    "# преобразуем полученные рекомендации в табличный формат\n",
    "item_ids_enc = als_recommendations[0]\n",
    "als_scores = als_recommendations[1]\n",
    "\n",
    "als_recommendations = pd.DataFrame({\n",
    "    \"user_id_enc\": user_ids_encoded,\n",
    "    \"track_id_enc\": item_ids_enc.tolist(), \n",
    "    \"score\": als_scores.tolist()})\n",
    "als_recommendations = als_recommendations.explode([\"track_id_enc\", \"score\"], ignore_index=True)\n",
    "\n"
   ]
  },
  {
   "cell_type": "code",
   "execution_count": 14,
   "id": "66b6d2b2",
   "metadata": {},
   "outputs": [
    {
     "data": {
      "text/html": [
       "<div>\n",
       "<style scoped>\n",
       "    .dataframe tbody tr th:only-of-type {\n",
       "        vertical-align: middle;\n",
       "    }\n",
       "\n",
       "    .dataframe tbody tr th {\n",
       "        vertical-align: top;\n",
       "    }\n",
       "\n",
       "    .dataframe thead th {\n",
       "        text-align: right;\n",
       "    }\n",
       "</style>\n",
       "<table border=\"1\" class=\"dataframe\">\n",
       "  <thead>\n",
       "    <tr style=\"text-align: right;\">\n",
       "      <th></th>\n",
       "      <th>user_id</th>\n",
       "      <th>track_id</th>\n",
       "      <th>score</th>\n",
       "    </tr>\n",
       "  </thead>\n",
       "  <tbody>\n",
       "    <tr>\n",
       "      <th>0</th>\n",
       "      <td>0</td>\n",
       "      <td>16549426</td>\n",
       "      <td>0.119569</td>\n",
       "    </tr>\n",
       "    <tr>\n",
       "      <th>1</th>\n",
       "      <td>0</td>\n",
       "      <td>14690772</td>\n",
       "      <td>0.118357</td>\n",
       "    </tr>\n",
       "    <tr>\n",
       "      <th>2</th>\n",
       "      <td>0</td>\n",
       "      <td>17856052</td>\n",
       "      <td>0.115601</td>\n",
       "    </tr>\n",
       "    <tr>\n",
       "      <th>3</th>\n",
       "      <td>0</td>\n",
       "      <td>15397472</td>\n",
       "      <td>0.114366</td>\n",
       "    </tr>\n",
       "    <tr>\n",
       "      <th>4</th>\n",
       "      <td>0</td>\n",
       "      <td>15397485</td>\n",
       "      <td>0.112536</td>\n",
       "    </tr>\n",
       "  </tbody>\n",
       "</table>\n",
       "</div>"
      ],
      "text/plain": [
       "   user_id  track_id     score\n",
       "0        0  16549426  0.119569\n",
       "1        0  14690772  0.118357\n",
       "2        0  17856052  0.115601\n",
       "3        0  15397472  0.114366\n",
       "4        0  15397485  0.112536"
      ]
     },
     "execution_count": 14,
     "metadata": {},
     "output_type": "execute_result"
    }
   ],
   "source": [
    "# приводим типы данных\n",
    "als_recommendations[\"track_id_enc\"] = als_recommendations[\"track_id_enc\"].astype(\"int\")\n",
    "als_recommendations[\"score\"] = als_recommendations[\"score\"].astype(\"float\")\n",
    "\n",
    "# получаем изначальные идентификаторы\n",
    "als_recommendations[\"user_id\"] = user_encoder.inverse_transform(als_recommendations[\"user_id_enc\"])\n",
    "als_recommendations[\"track_id\"] = item_encoder.inverse_transform(als_recommendations[\"track_id_enc\"])\n",
    "als_recommendations = als_recommendations.drop(columns=[\"user_id_enc\", \"track_id_enc\"])\n",
    "\n",
    "als_recommendations[[\"user_id\", \"track_id\", \"score\"]].head()"
   ]
  },
  {
   "cell_type": "code",
   "execution_count": 17,
   "id": "86828a6f",
   "metadata": {},
   "outputs": [
    {
     "name": "stdout",
     "output_type": "stream",
     "text": [
      "Успешно\n"
     ]
    }
   ],
   "source": [
    "### Сохраним полученные рекомендации в файл\n",
    "als_recommendations = als_recommendations[[\"user_id\", \"track_id\", \"score\"]]\n",
    "als_recommendations.to_parquet(\"models/personal_als.parquet\")\n",
    "send_to_s3('recsys/recommendations/', 'models/personal_als.parquet', S3_BUCKET_NAME)\n"
   ]
  },
  {
   "cell_type": "markdown",
   "id": "5f09dc7e-7c91-4355-860a-b9cfb9f33f15",
   "metadata": {},
   "source": [
    "# Похожие"
   ]
  },
  {
   "cell_type": "markdown",
   "id": "1dfcb683-b440-40a8-9975-894156a53872",
   "metadata": {},
   "source": [
    "Рассчитаем похожие, они позже пригодятся для онлайн-рекомендаций."
   ]
  },
  {
   "cell_type": "code",
   "execution_count": 19,
   "id": "c20ca0b7",
   "metadata": {},
   "outputs": [
    {
     "name": "stdout",
     "output_type": "stream",
     "text": [
      "als_recommendations: 2617.28 MB\n",
      "item_ids_enc: 523.46 MB\n",
      "als_scores: 523.46 MB\n",
      "common_users: 32.00 MB\n",
      "users_train: 15.35 MB\n",
      "users_test: 8.91 MB\n",
      "large_df: 7.63 MB\n",
      "cold_users: 2.00 MB\n",
      "MinMaxScaler: 0.00 MB\n",
      "In: 0.00 MB\n",
      "Out: 0.00 MB\n",
      "open: 0.00 MB\n",
      "load_dotenv: 0.00 MB\n",
      "send_to_s3: 0.00 MB\n",
      "show_memory_usage: 0.00 MB\n",
      "Доступно памяти: 33.65 GB\n",
      "Используется: 12.45 GB\n"
     ]
    }
   ],
   "source": [
    "show_memory_usage()"
   ]
  },
  {
   "cell_type": "code",
   "execution_count": 20,
   "id": "64505ecb",
   "metadata": {},
   "outputs": [],
   "source": [
    "events_train = pd.read_parquet('data/events_train.parquet')\n",
    "# events_test = pd.read_parquet('data/events_test.parquet')"
   ]
  },
  {
   "cell_type": "code",
   "execution_count": 21,
   "id": "da1d4841",
   "metadata": {},
   "outputs": [
    {
     "data": {
      "text/html": [
       "<div>\n",
       "<style scoped>\n",
       "    .dataframe tbody tr th:only-of-type {\n",
       "        vertical-align: middle;\n",
       "    }\n",
       "\n",
       "    .dataframe tbody tr th {\n",
       "        vertical-align: top;\n",
       "    }\n",
       "\n",
       "    .dataframe thead th {\n",
       "        text-align: right;\n",
       "    }\n",
       "</style>\n",
       "<table border=\"1\" class=\"dataframe\">\n",
       "  <thead>\n",
       "    <tr style=\"text-align: right;\">\n",
       "      <th></th>\n",
       "      <th>user_id</th>\n",
       "      <th>track_id</th>\n",
       "      <th>track_seq</th>\n",
       "      <th>started_at</th>\n",
       "      <th>user_id_enc</th>\n",
       "      <th>track_id_enc</th>\n",
       "    </tr>\n",
       "  </thead>\n",
       "  <tbody>\n",
       "    <tr>\n",
       "      <th>0</th>\n",
       "      <td>0</td>\n",
       "      <td>99262</td>\n",
       "      <td>1</td>\n",
       "      <td>2022-07-17</td>\n",
       "      <td>0</td>\n",
       "      <td>16061</td>\n",
       "    </tr>\n",
       "    <tr>\n",
       "      <th>1</th>\n",
       "      <td>0</td>\n",
       "      <td>589498</td>\n",
       "      <td>2</td>\n",
       "      <td>2022-07-19</td>\n",
       "      <td>0</td>\n",
       "      <td>60471</td>\n",
       "    </tr>\n",
       "    <tr>\n",
       "      <th>2</th>\n",
       "      <td>0</td>\n",
       "      <td>590262</td>\n",
       "      <td>3</td>\n",
       "      <td>2022-07-21</td>\n",
       "      <td>0</td>\n",
       "      <td>60944</td>\n",
       "    </tr>\n",
       "    <tr>\n",
       "      <th>3</th>\n",
       "      <td>0</td>\n",
       "      <td>590303</td>\n",
       "      <td>4</td>\n",
       "      <td>2022-07-22</td>\n",
       "      <td>0</td>\n",
       "      <td>60967</td>\n",
       "    </tr>\n",
       "    <tr>\n",
       "      <th>4</th>\n",
       "      <td>0</td>\n",
       "      <td>590692</td>\n",
       "      <td>5</td>\n",
       "      <td>2022-07-22</td>\n",
       "      <td>0</td>\n",
       "      <td>61192</td>\n",
       "    </tr>\n",
       "  </tbody>\n",
       "</table>\n",
       "</div>"
      ],
      "text/plain": [
       "   user_id  track_id  track_seq started_at  user_id_enc  track_id_enc\n",
       "0        0     99262          1 2022-07-17            0         16061\n",
       "1        0    589498          2 2022-07-19            0         60471\n",
       "2        0    590262          3 2022-07-21            0         60944\n",
       "3        0    590303          4 2022-07-22            0         60967\n",
       "4        0    590692          5 2022-07-22            0         61192"
      ]
     },
     "execution_count": 21,
     "metadata": {},
     "output_type": "execute_result"
    }
   ],
   "source": [
    "events_train.head()"
   ]
  },
  {
   "cell_type": "code",
   "execution_count": null,
   "id": "90ee1ae9",
   "metadata": {},
   "outputs": [],
   "source": [
    "# получим энкодированные идентификаторы всех объектов, известных нам из events_train\n",
    "train_item_ids_enc = events_train['track_id_enc'].unique()\n",
    "\n",
    "max_similar_items = 10\n",
    "\n",
    "# получаем списки похожих объектов, используя ранее полученную ALS-модель\n",
    "# метод similar_items возвращает и сам объект, как наиболее похожий\n",
    "# этот объект мы позже отфильтруем, но сейчас запросим на 1 больше\n",
    "similar_items = als_model.similar_items(train_item_ids_enc, N=max_similar_items+1)\n",
    "\n",
    "# преобразуем полученные списки в табличный формат\n",
    "sim_item_item_ids_enc = similar_items[0]\n",
    "sim_item_scores = similar_items[1]\n",
    "\n",
    "similar_items = pd.DataFrame({\n",
    "    \"track_id_enc\": train_item_ids_enc,\n",
    "    \"sim_track_id_enc\": sim_item_item_ids_enc.tolist(), \n",
    "    \"score\": sim_item_scores.tolist()})\n",
    "similar_items = similar_items.explode([\"sim_track_id_enc\", \"score\"], ignore_index=True)\n",
    "\n",
    "# приводим типы данных\n",
    "similar_items[\"sim_track_id_enc\"] = similar_items[\"sim_track_id_enc\"].astype(\"int\") \n",
    "similar_items[\"score\"] = similar_items[\"score\"].astype(\"float\")\n",
    "\n",
    "# получаем изначальные идентификаторы\n",
    "similar_items[\"track_id_enc_1\"] = item_encoder.inverse_transform(similar_items[\"track_id_enc\"])\n",
    "similar_items[\"track_id_enc_2\"] = item_encoder.inverse_transform(similar_items[\"sim_track_id_enc\"])\n",
    "similar_items = similar_items.drop(columns=[\"track_id_enc\", \"sim_track_id_enc\"])\n",
    "\n",
    "# убираем пары с одинаковыми объектами\n",
    "similar_items = similar_items.query(\"track_id_enc_1 != track_id_enc_2\")"
   ]
  },
  {
   "cell_type": "code",
   "execution_count": 10,
   "id": "bc96fa8e",
   "metadata": {},
   "outputs": [
    {
     "name": "stdout",
     "output_type": "stream",
     "text": [
      "Успешно\n"
     ]
    }
   ],
   "source": [
    "# similar_items.to_parquet(\"models/similar.parquet\")\n",
    "# send_to_s3('recsys/recommendations/', 'models/similar.parquet', S3_BUCKET_NAME)"
   ]
  },
  {
   "cell_type": "markdown",
   "id": "0087a3e7-ca9f-42cd-944c-944222c1baef",
   "metadata": {},
   "source": [
    "# Построение признаков"
   ]
  },
  {
   "cell_type": "markdown",
   "id": "e82a32e1-b90b-4eaf-9439-fc8deab9f34b",
   "metadata": {},
   "source": [
    "Построим три признака, можно больше, для ранжирующей модели."
   ]
  },
  {
   "cell_type": "code",
   "execution_count": 2,
   "id": "05b4ae84-406a-44a4-abec-4f80f93e3004",
   "metadata": {},
   "outputs": [],
   "source": [
    "top_popular = pd.read_parquet('models/top_popular.parquet')\n",
    "personal_als = pd.read_parquet('models/personal_als.parquet')\n"
   ]
  },
  {
   "cell_type": "code",
   "execution_count": 3,
   "id": "6fdc20c2",
   "metadata": {},
   "outputs": [
    {
     "data": {
      "text/html": [
       "<div>\n",
       "<style scoped>\n",
       "    .dataframe tbody tr th:only-of-type {\n",
       "        vertical-align: middle;\n",
       "    }\n",
       "\n",
       "    .dataframe tbody tr th {\n",
       "        vertical-align: top;\n",
       "    }\n",
       "\n",
       "    .dataframe thead th {\n",
       "        text-align: right;\n",
       "    }\n",
       "</style>\n",
       "<table border=\"1\" class=\"dataframe\">\n",
       "  <thead>\n",
       "    <tr style=\"text-align: right;\">\n",
       "      <th></th>\n",
       "      <th>track_id</th>\n",
       "      <th>count</th>\n",
       "      <th>albums</th>\n",
       "      <th>artists</th>\n",
       "      <th>genres</th>\n",
       "      <th>track_name</th>\n",
       "      <th>listen_pop_score</th>\n",
       "      <th>track_seq_score</th>\n",
       "      <th>popularity_score</th>\n",
       "    </tr>\n",
       "  </thead>\n",
       "  <tbody>\n",
       "    <tr>\n",
       "      <th>0</th>\n",
       "      <td>53404</td>\n",
       "      <td>111062</td>\n",
       "      <td>{\"4367\": \"Nevermind\", \"89708\": \"Nirvana\", \"294...</td>\n",
       "      <td>{\"9262\": \"Nirvana\"}</td>\n",
       "      <td>{\"13\": \"alternative\", \"14\": \"rock\", \"102\": \"al...</td>\n",
       "      <td>Smells Like Teen Spirit</td>\n",
       "      <td>1.000000</td>\n",
       "      <td>0.996740</td>\n",
       "      <td>0.996740</td>\n",
       "    </tr>\n",
       "    <tr>\n",
       "      <th>1</th>\n",
       "      <td>33311009</td>\n",
       "      <td>106921</td>\n",
       "      <td>{\"4440454\": \"Shape Of Pop\", \"4456609\": \"NOW Th...</td>\n",
       "      <td>{\"675068\": \"Imagine Dragons\"}</td>\n",
       "      <td>{\"14\": \"rock\", \"102\": \"allrock\"}</td>\n",
       "      <td>Believer</td>\n",
       "      <td>0.962711</td>\n",
       "      <td>0.956368</td>\n",
       "      <td>0.920705</td>\n",
       "    </tr>\n",
       "    <tr>\n",
       "      <th>2</th>\n",
       "      <td>178529</td>\n",
       "      <td>101924</td>\n",
       "      <td>{\"18113\": \"Meteora\", \"21924\": \"Meteora\", \"2194...</td>\n",
       "      <td>{\"36800\": \"Linkin Park\"}</td>\n",
       "      <td>{\"41\": \"numetal\", \"47\": \"metal\"}</td>\n",
       "      <td>Numb</td>\n",
       "      <td>0.917713</td>\n",
       "      <td>0.992615</td>\n",
       "      <td>0.910936</td>\n",
       "    </tr>\n",
       "    <tr>\n",
       "      <th>3</th>\n",
       "      <td>35505245</td>\n",
       "      <td>99490</td>\n",
       "      <td>{\"4431303\": \"I Got Love\", \"20559909\": \"I Got L...</td>\n",
       "      <td>{\"4611844\": \"Miyagi &amp; Эндшпиль\", \"588511\": \"Ре...</td>\n",
       "      <td>{\"3\": \"rusrap\", \"75\": \"rap\"}</td>\n",
       "      <td>I Got Love</td>\n",
       "      <td>0.895796</td>\n",
       "      <td>0.969624</td>\n",
       "      <td>0.868585</td>\n",
       "    </tr>\n",
       "    <tr>\n",
       "      <th>8</th>\n",
       "      <td>795836</td>\n",
       "      <td>85042</td>\n",
       "      <td>{\"88770\": \"Ten Summoner's Tales\", \"296297\": \"2...</td>\n",
       "      <td>{\"680\": \"Sting\"}</td>\n",
       "      <td>{\"11\": \"pop\", \"14\": \"rock\", \"102\": \"allrock\"}</td>\n",
       "      <td>Shape Of My Heart</td>\n",
       "      <td>0.765693</td>\n",
       "      <td>0.981796</td>\n",
       "      <td>0.751755</td>\n",
       "    </tr>\n",
       "  </tbody>\n",
       "</table>\n",
       "</div>"
      ],
      "text/plain": [
       "   track_id   count                                             albums   \n",
       "0     53404  111062  {\"4367\": \"Nevermind\", \"89708\": \"Nirvana\", \"294...  \\\n",
       "1  33311009  106921  {\"4440454\": \"Shape Of Pop\", \"4456609\": \"NOW Th...   \n",
       "2    178529  101924  {\"18113\": \"Meteora\", \"21924\": \"Meteora\", \"2194...   \n",
       "3  35505245   99490  {\"4431303\": \"I Got Love\", \"20559909\": \"I Got L...   \n",
       "8    795836   85042  {\"88770\": \"Ten Summoner's Tales\", \"296297\": \"2...   \n",
       "\n",
       "                                             artists   \n",
       "0                                {\"9262\": \"Nirvana\"}  \\\n",
       "1                      {\"675068\": \"Imagine Dragons\"}   \n",
       "2                           {\"36800\": \"Linkin Park\"}   \n",
       "3  {\"4611844\": \"Miyagi & Эндшпиль\", \"588511\": \"Ре...   \n",
       "8                                   {\"680\": \"Sting\"}   \n",
       "\n",
       "                                              genres               track_name   \n",
       "0  {\"13\": \"alternative\", \"14\": \"rock\", \"102\": \"al...  Smells Like Teen Spirit  \\\n",
       "1                   {\"14\": \"rock\", \"102\": \"allrock\"}                 Believer   \n",
       "2                   {\"41\": \"numetal\", \"47\": \"metal\"}                     Numb   \n",
       "3                       {\"3\": \"rusrap\", \"75\": \"rap\"}               I Got Love   \n",
       "8      {\"11\": \"pop\", \"14\": \"rock\", \"102\": \"allrock\"}        Shape Of My Heart   \n",
       "\n",
       "   listen_pop_score  track_seq_score  popularity_score  \n",
       "0          1.000000         0.996740          0.996740  \n",
       "1          0.962711         0.956368          0.920705  \n",
       "2          0.917713         0.992615          0.910936  \n",
       "3          0.895796         0.969624          0.868585  \n",
       "8          0.765693         0.981796          0.751755  "
      ]
     },
     "execution_count": 3,
     "metadata": {},
     "output_type": "execute_result"
    }
   ],
   "source": [
    "# вычисляем popularity_score, как скор популярности со штрафом за низкий рейтинг\n",
    "top_popular[\"popularity_score\"] = (\n",
    "    top_popular[\"listen_pop_score\"] * top_popular[\"track_seq_score\"]\n",
    ")\n",
    "\n",
    "# сортируем по убыванию popularity_score\n",
    "top_popular = top_popular.sort_values(\"popularity_score\", ascending=False)\n",
    "top_popular.head()\n"
   ]
  },
  {
   "cell_type": "code",
   "execution_count": null,
   "id": "32c5aa2a",
   "metadata": {},
   "outputs": [
    {
     "data": {
      "text/html": [
       "<div>\n",
       "<style scoped>\n",
       "    .dataframe tbody tr th:only-of-type {\n",
       "        vertical-align: middle;\n",
       "    }\n",
       "\n",
       "    .dataframe tbody tr th {\n",
       "        vertical-align: top;\n",
       "    }\n",
       "\n",
       "    .dataframe thead th {\n",
       "        text-align: right;\n",
       "    }\n",
       "</style>\n",
       "<table border=\"1\" class=\"dataframe\">\n",
       "  <thead>\n",
       "    <tr style=\"text-align: right;\">\n",
       "      <th></th>\n",
       "      <th>track_id</th>\n",
       "      <th>count</th>\n",
       "      <th>albums</th>\n",
       "      <th>artists</th>\n",
       "      <th>genres</th>\n",
       "      <th>track_name</th>\n",
       "      <th>listen_pop_score</th>\n",
       "      <th>track_seq_score</th>\n",
       "      <th>popularity_score</th>\n",
       "      <th>avg_personal_score</th>\n",
       "    </tr>\n",
       "  </thead>\n",
       "  <tbody>\n",
       "    <tr>\n",
       "      <th>0</th>\n",
       "      <td>53404</td>\n",
       "      <td>111062</td>\n",
       "      <td>{\"4367\": \"Nevermind\", \"89708\": \"Nirvana\", \"294...</td>\n",
       "      <td>{\"9262\": \"Nirvana\"}</td>\n",
       "      <td>{\"13\": \"alternative\", \"14\": \"rock\", \"102\": \"al...</td>\n",
       "      <td>Smells Like Teen Spirit</td>\n",
       "      <td>1.000000</td>\n",
       "      <td>0.996740</td>\n",
       "      <td>0.996740</td>\n",
       "      <td>0.690453</td>\n",
       "    </tr>\n",
       "    <tr>\n",
       "      <th>1</th>\n",
       "      <td>33311009</td>\n",
       "      <td>106921</td>\n",
       "      <td>{\"4440454\": \"Shape Of Pop\", \"4456609\": \"NOW Th...</td>\n",
       "      <td>{\"675068\": \"Imagine Dragons\"}</td>\n",
       "      <td>{\"14\": \"rock\", \"102\": \"allrock\"}</td>\n",
       "      <td>Believer</td>\n",
       "      <td>0.962711</td>\n",
       "      <td>0.956368</td>\n",
       "      <td>0.920705</td>\n",
       "      <td>0.536651</td>\n",
       "    </tr>\n",
       "    <tr>\n",
       "      <th>2</th>\n",
       "      <td>178529</td>\n",
       "      <td>101924</td>\n",
       "      <td>{\"18113\": \"Meteora\", \"21924\": \"Meteora\", \"2194...</td>\n",
       "      <td>{\"36800\": \"Linkin Park\"}</td>\n",
       "      <td>{\"41\": \"numetal\", \"47\": \"metal\"}</td>\n",
       "      <td>Numb</td>\n",
       "      <td>0.917713</td>\n",
       "      <td>0.992615</td>\n",
       "      <td>0.910936</td>\n",
       "      <td>0.650176</td>\n",
       "    </tr>\n",
       "    <tr>\n",
       "      <th>3</th>\n",
       "      <td>35505245</td>\n",
       "      <td>99490</td>\n",
       "      <td>{\"4431303\": \"I Got Love\", \"20559909\": \"I Got L...</td>\n",
       "      <td>{\"4611844\": \"Miyagi &amp; Эндшпиль\", \"588511\": \"Ре...</td>\n",
       "      <td>{\"3\": \"rusrap\", \"75\": \"rap\"}</td>\n",
       "      <td>I Got Love</td>\n",
       "      <td>0.895796</td>\n",
       "      <td>0.969624</td>\n",
       "      <td>0.868585</td>\n",
       "      <td>0.534009</td>\n",
       "    </tr>\n",
       "    <tr>\n",
       "      <th>4</th>\n",
       "      <td>795836</td>\n",
       "      <td>85042</td>\n",
       "      <td>{\"88770\": \"Ten Summoner's Tales\", \"296297\": \"2...</td>\n",
       "      <td>{\"680\": \"Sting\"}</td>\n",
       "      <td>{\"11\": \"pop\", \"14\": \"rock\", \"102\": \"allrock\"}</td>\n",
       "      <td>Shape Of My Heart</td>\n",
       "      <td>0.765693</td>\n",
       "      <td>0.981796</td>\n",
       "      <td>0.751755</td>\n",
       "      <td>0.579616</td>\n",
       "    </tr>\n",
       "  </tbody>\n",
       "</table>\n",
       "</div>"
      ],
      "text/plain": [
       "   track_id   count                                             albums   \n",
       "0     53404  111062  {\"4367\": \"Nevermind\", \"89708\": \"Nirvana\", \"294...  \\\n",
       "1  33311009  106921  {\"4440454\": \"Shape Of Pop\", \"4456609\": \"NOW Th...   \n",
       "2    178529  101924  {\"18113\": \"Meteora\", \"21924\": \"Meteora\", \"2194...   \n",
       "3  35505245   99490  {\"4431303\": \"I Got Love\", \"20559909\": \"I Got L...   \n",
       "4    795836   85042  {\"88770\": \"Ten Summoner's Tales\", \"296297\": \"2...   \n",
       "\n",
       "                                             artists   \n",
       "0                                {\"9262\": \"Nirvana\"}  \\\n",
       "1                      {\"675068\": \"Imagine Dragons\"}   \n",
       "2                           {\"36800\": \"Linkin Park\"}   \n",
       "3  {\"4611844\": \"Miyagi & Эндшпиль\", \"588511\": \"Ре...   \n",
       "4                                   {\"680\": \"Sting\"}   \n",
       "\n",
       "                                              genres               track_name   \n",
       "0  {\"13\": \"alternative\", \"14\": \"rock\", \"102\": \"al...  Smells Like Teen Spirit  \\\n",
       "1                   {\"14\": \"rock\", \"102\": \"allrock\"}                 Believer   \n",
       "2                   {\"41\": \"numetal\", \"47\": \"metal\"}                     Numb   \n",
       "3                       {\"3\": \"rusrap\", \"75\": \"rap\"}               I Got Love   \n",
       "4      {\"11\": \"pop\", \"14\": \"rock\", \"102\": \"allrock\"}        Shape Of My Heart   \n",
       "\n",
       "   listen_pop_score  track_seq_score  popularity_score  avg_personal_score  \n",
       "0          1.000000         0.996740          0.996740            0.690453  \n",
       "1          0.962711         0.956368          0.920705            0.536651  \n",
       "2          0.917713         0.992615          0.910936            0.650176  \n",
       "3          0.895796         0.969624          0.868585            0.534009  \n",
       "4          0.765693         0.981796          0.751755            0.579616  "
      ]
     },
     "execution_count": 5,
     "metadata": {},
     "output_type": "execute_result"
    }
   ],
   "source": [
    "top_popular = top_popular.merge(personal_als.groupby('track_id').agg({'score' : 'mean'}).sort_values(by=['score']).reset_index(),\n",
    "                  on='track_id',\n",
    "                  how='left')\n",
    "top_popular.rename(columns={'score' : 'avg_personal_score'}, inplace=True)\n",
    "top_popular['avg_personal_score'].fillna(0, inplace=True).astype(\"int\") # top_popular['avg_personal_score'].mean()\n",
    "top_popular.head()"
   ]
  },
  {
   "cell_type": "code",
   "execution_count": 8,
   "id": "097d0555",
   "metadata": {},
   "outputs": [],
   "source": [
    "top_popular.to_parquet('data/to_range.parquet')"
   ]
  },
  {
   "cell_type": "markdown",
   "id": "47bcf88d-b236-46f0-a6f3-38ddd64895fe",
   "metadata": {},
   "source": [
    "# Ранжирование рекомендаций"
   ]
  },
  {
   "cell_type": "markdown",
   "id": "e8cd8223-3418-4493-8c87-1f76286ebda0",
   "metadata": {},
   "source": [
    "Построим ранжирующую модель, чтобы сделать рекомендации более точными. Отранжируем рекомендации."
   ]
  },
  {
   "cell_type": "code",
   "execution_count": 2,
   "id": "79f1dd92-32a9-463d-827e-8bb9ee5bbb54",
   "metadata": {},
   "outputs": [
    {
     "name": "stdout",
     "output_type": "stream",
     "text": [
      "als_recommendations: 2617.28 MB\n",
      "events_test: 546.94 MB\n",
      "to_range: 342.95 MB\n",
      "large_df: 7.63 MB\n",
      "MinMaxScaler: 0.00 MB\n",
      "CatBoostClassifier: 0.00 MB\n",
      "Pool: 0.00 MB\n",
      "open: 0.00 MB\n",
      "load_dotenv: 0.00 MB\n",
      "send_to_s3: 0.00 MB\n",
      "show_memory_usage: 0.00 MB\n",
      "get_most_popular: 0.00 MB\n",
      "In: 0.00 MB\n",
      "AWS_SECRET_ACCESS_KEY: 0.00 MB\n",
      "S3_BUCKET_NAME: 0.00 MB\n",
      "Доступно памяти: 33.65 GB\n",
      "Используется: 6.77 GB\n"
     ]
    }
   ],
   "source": [
    "to_range = pd.read_parquet('data/to_range.parquet')\n",
    "als_recommendations = pd.read_parquet('models/personal_als.parquet')\n",
    "# events_train = pd.read_parquet('data/events_train.parquet')\n",
    "events_test = pd.read_parquet('data/events_test.parquet')\n",
    "show_memory_usage()"
   ]
  },
  {
   "cell_type": "code",
   "execution_count": 3,
   "id": "cffb90ad",
   "metadata": {},
   "outputs": [
    {
     "name": "stdout",
     "output_type": "stream",
     "text": [
      "Размер events_labels: 7131992\n",
      "Размер events_test_2: 5288090\n"
     ]
    }
   ],
   "source": [
    "# задаём точку разбиения\n",
    "split_date_for_labels = pd.to_datetime(\"2022-12-24\") #.date()\n",
    "\n",
    "# Рассчитываем границы 7-дневных периодов\n",
    "start_date_labels = split_date_for_labels - pd.Timedelta(days=7)\n",
    "end_date_test_2 = split_date_for_labels + pd.Timedelta(days=7)\n",
    "\n",
    "# Создаем индексы для фильтрации\n",
    "labels_idx = (events_test[\"started_at\"] >= start_date_labels) & (events_test[\"started_at\"] < split_date_for_labels)\n",
    "test2_idx = (events_test[\"started_at\"] >= split_date_for_labels) & (events_test[\"started_at\"] < end_date_test_2)\n",
    "\n",
    "# Разделяем данные\n",
    "events_labels = events_test[labels_idx].copy()  \n",
    "events_test_2 = events_test[test2_idx].copy()  \n",
    "\n",
    "events_labels[\"target\"] = 1\n",
    "\n",
    "# events_labels.to_parquet('data/events_labels.parquet')\n",
    "# events_test_2.to_parquet('data/events_test_2.parquet')\n",
    "\n",
    "print(f\"Размер events_labels: {len(events_labels)}\")\n",
    "print(f\"Размер events_test_2: {len(events_test_2)}\")"
   ]
  },
  {
   "cell_type": "code",
   "execution_count": 5,
   "id": "d4897b14",
   "metadata": {},
   "outputs": [
    {
     "name": "stdout",
     "output_type": "stream",
     "text": [
      "events_train: 8262.77 MB\n",
      "events_labels: 340.08 MB\n",
      "events_test_2: 211.81 MB\n",
      "labels_idx: 117.20 MB\n",
      "test2_idx: 117.20 MB\n",
      "large_df: 7.63 MB\n",
      "MinMaxScaler: 0.00 MB\n",
      "CatBoostClassifier: 0.00 MB\n",
      "Pool: 0.00 MB\n",
      "open: 0.00 MB\n",
      "load_dotenv: 0.00 MB\n",
      "send_to_s3: 0.00 MB\n",
      "show_memory_usage: 0.00 MB\n",
      "get_most_popular: 0.00 MB\n",
      "In: 0.00 MB\n",
      "Доступно памяти: 33.65 GB\n",
      "Используется: 23.06 GB\n"
     ]
    }
   ],
   "source": [
    "del events_test\n",
    "show_memory_usage()"
   ]
  },
  {
   "cell_type": "code",
   "execution_count": 5,
   "id": "7f512e1b",
   "metadata": {},
   "outputs": [
    {
     "name": "stdout",
     "output_type": "stream",
     "text": [
      "Всего: 418684\n",
      "target\n",
      "0    301424\n",
      "1    117260\n",
      "Name: count, dtype: int64\n"
     ]
    }
   ],
   "source": [
    "candidates = pd.merge(events_labels[[\"user_id\", \"track_id\", \"target\"]],\n",
    "    als_recommendations[[\"user_id\", \"track_id\", \"score\"]].rename(columns={\"score\": \"als_score\"}),\n",
    "    on=[\"user_id\", \"track_id\"],\n",
    "    how=\"right\")\n",
    "\n",
    "candidates['target'] = candidates['target'].fillna(0).astype('int')\n",
    "\n",
    "# в кандидатах оставляем только тех пользователей, у которых есть хотя бы один положительный таргет\n",
    "candidates_to_sample = candidates.groupby(\"user_id\").filter(lambda x: x[\"target\"].sum() > 0)\n",
    "\n",
    "# для каждого пользователя оставляем только 4 негативных примера\n",
    "negatives_per_user = 4\n",
    "candidates_for_train = pd.concat([\n",
    "    candidates_to_sample.query(\"target == 1\"),\n",
    "    candidates_to_sample.query(\"target == 0\") \\\n",
    "        .groupby(\"user_id\") \\\n",
    "        .apply(lambda x: x.sample(negatives_per_user, random_state=0))\n",
    "    ])\n",
    "\n",
    "print(f\"Всего: {len(candidates_for_train)}\")\n",
    "print(candidates_for_train[\"target\"].value_counts())"
   ]
  },
  {
   "cell_type": "code",
   "execution_count": 2,
   "id": "2b9664a8",
   "metadata": {},
   "outputs": [
    {
     "name": "stdout",
     "output_type": "stream",
     "text": [
      "candidates_to_rank: 1466.13 MB\n",
      "to_range: 342.95 MB\n",
      "large_df: 7.63 MB\n",
      "MinMaxScaler: 0.00 MB\n",
      "CatBoostClassifier: 0.00 MB\n",
      "Pool: 0.00 MB\n",
      "open: 0.00 MB\n",
      "load_dotenv: 0.00 MB\n",
      "send_to_s3: 0.00 MB\n",
      "show_memory_usage: 0.00 MB\n",
      "get_most_popular: 0.00 MB\n",
      "In: 0.00 MB\n",
      "AWS_SECRET_ACCESS_KEY: 0.00 MB\n",
      "S3_BUCKET_NAME: 0.00 MB\n",
      "AWS_S3_ENDPOINT_URL: 0.00 MB\n",
      "Доступно памяти: 33.65 GB\n",
      "Используется: 4.91 GB\n"
     ]
    }
   ],
   "source": [
    "# to_range = pd.read_parquet('data/to_range.parquet')\n",
    "# als_recommendations = pd.read_parquet('models/personal_als.parquet')\n",
    "# events_test_2 = pd.read_parquet('data/events_test_2.parquet')\n",
    "# show_memory_usage()\n",
    "\n",
    "\n",
    "# candidates_to_rank = als_recommendations[als_recommendations[\"user_id\"].isin(events_test_2[\"user_id\"].drop_duplicates())]\n",
    "\n",
    "# candidates_to_rank.to_parquet('data/candidates_to_rank.parquet')\n",
    "\n",
    "\n",
    "### матчим с to_range\n",
    "candidates_to_rank = pd.read_parquet('data/candidates_to_rank.parquet')\n",
    "to_range = pd.read_parquet('data/to_range.parquet')\n",
    "show_memory_usage()\n"
   ]
  },
  {
   "cell_type": "code",
   "execution_count": 8,
   "id": "5a69ba8d",
   "metadata": {},
   "outputs": [
    {
     "data": {
      "text/html": [
       "<div>\n",
       "<style scoped>\n",
       "    .dataframe tbody tr th:only-of-type {\n",
       "        vertical-align: middle;\n",
       "    }\n",
       "\n",
       "    .dataframe tbody tr th {\n",
       "        vertical-align: top;\n",
       "    }\n",
       "\n",
       "    .dataframe thead th {\n",
       "        text-align: right;\n",
       "    }\n",
       "</style>\n",
       "<table border=\"1\" class=\"dataframe\">\n",
       "  <thead>\n",
       "    <tr style=\"text-align: right;\">\n",
       "      <th></th>\n",
       "      <th>user_id</th>\n",
       "      <th>track_id</th>\n",
       "      <th>als_score</th>\n",
       "      <th>listen_pop_score</th>\n",
       "      <th>track_seq_score</th>\n",
       "      <th>popularity_score</th>\n",
       "      <th>avg_personal_score</th>\n",
       "    </tr>\n",
       "  </thead>\n",
       "  <tbody>\n",
       "    <tr>\n",
       "      <th>0</th>\n",
       "      <td>4</td>\n",
       "      <td>18820599</td>\n",
       "      <td>0.959492</td>\n",
       "      <td>0.403887</td>\n",
       "      <td>0.957332</td>\n",
       "      <td>0.386653</td>\n",
       "      <td>0.544579</td>\n",
       "    </tr>\n",
       "    <tr>\n",
       "      <th>1</th>\n",
       "      <td>4</td>\n",
       "      <td>20645678</td>\n",
       "      <td>0.936842</td>\n",
       "      <td>0.070742</td>\n",
       "      <td>0.931238</td>\n",
       "      <td>0.065878</td>\n",
       "      <td>0.547573</td>\n",
       "    </tr>\n",
       "    <tr>\n",
       "      <th>2</th>\n",
       "      <td>4</td>\n",
       "      <td>17370471</td>\n",
       "      <td>0.901693</td>\n",
       "      <td>0.141674</td>\n",
       "      <td>0.927493</td>\n",
       "      <td>0.131401</td>\n",
       "      <td>0.535473</td>\n",
       "    </tr>\n",
       "    <tr>\n",
       "      <th>3</th>\n",
       "      <td>4</td>\n",
       "      <td>645494</td>\n",
       "      <td>0.878538</td>\n",
       "      <td>0.192623</td>\n",
       "      <td>0.978754</td>\n",
       "      <td>0.188531</td>\n",
       "      <td>0.628803</td>\n",
       "    </tr>\n",
       "    <tr>\n",
       "      <th>4</th>\n",
       "      <td>4</td>\n",
       "      <td>598975</td>\n",
       "      <td>0.873714</td>\n",
       "      <td>0.179863</td>\n",
       "      <td>0.978787</td>\n",
       "      <td>0.176048</td>\n",
       "      <td>0.662030</td>\n",
       "    </tr>\n",
       "  </tbody>\n",
       "</table>\n",
       "</div>"
      ],
      "text/plain": [
       "   user_id  track_id  als_score  listen_pop_score  track_seq_score   \n",
       "0        4  18820599   0.959492          0.403887         0.957332  \\\n",
       "1        4  20645678   0.936842          0.070742         0.931238   \n",
       "2        4  17370471   0.901693          0.141674         0.927493   \n",
       "3        4    645494   0.878538          0.192623         0.978754   \n",
       "4        4    598975   0.873714          0.179863         0.978787   \n",
       "\n",
       "   popularity_score  avg_personal_score  \n",
       "0          0.386653            0.544579  \n",
       "1          0.065878            0.547573  \n",
       "2          0.131401            0.535473  \n",
       "3          0.188531            0.628803  \n",
       "4          0.176048            0.662030  "
      ]
     },
     "execution_count": 8,
     "metadata": {},
     "output_type": "execute_result"
    }
   ],
   "source": [
    "candidates_to_rank = pd.merge(candidates_to_rank.rename(columns={\"score\": \"als_score\"}), \n",
    "                              to_range[['track_id', 'listen_pop_score',\n",
    "       'track_seq_score', 'popularity_score', 'avg_personal_score']],\n",
    "                                on = ['track_id'],\n",
    "                                how='left')\n",
    "\n",
    "candidates_to_rank.to_parquet('data/candidates_to_rank.parquet')\n",
    "\n",
    "candidates_to_rank.head()"
   ]
  },
  {
   "cell_type": "code",
   "execution_count": 7,
   "id": "20c690f3",
   "metadata": {},
   "outputs": [
    {
     "data": {
      "text/html": [
       "<div>\n",
       "<style scoped>\n",
       "    .dataframe tbody tr th:only-of-type {\n",
       "        vertical-align: middle;\n",
       "    }\n",
       "\n",
       "    .dataframe tbody tr th {\n",
       "        vertical-align: top;\n",
       "    }\n",
       "\n",
       "    .dataframe thead th {\n",
       "        text-align: right;\n",
       "    }\n",
       "</style>\n",
       "<table border=\"1\" class=\"dataframe\">\n",
       "  <thead>\n",
       "    <tr style=\"text-align: right;\">\n",
       "      <th></th>\n",
       "      <th>track_id</th>\n",
       "      <th>count</th>\n",
       "      <th>albums</th>\n",
       "      <th>artists</th>\n",
       "      <th>genres</th>\n",
       "      <th>track_name</th>\n",
       "      <th>listen_pop_score</th>\n",
       "      <th>track_seq_score</th>\n",
       "      <th>popularity_score</th>\n",
       "      <th>avg_personal_score</th>\n",
       "    </tr>\n",
       "  </thead>\n",
       "  <tbody>\n",
       "    <tr>\n",
       "      <th>0</th>\n",
       "      <td>53404</td>\n",
       "      <td>111062</td>\n",
       "      <td>{\"4367\": \"Nevermind\", \"89708\": \"Nirvana\", \"294...</td>\n",
       "      <td>{\"9262\": \"Nirvana\"}</td>\n",
       "      <td>{\"13\": \"alternative\", \"14\": \"rock\", \"102\": \"al...</td>\n",
       "      <td>Smells Like Teen Spirit</td>\n",
       "      <td>1.000000</td>\n",
       "      <td>0.996740</td>\n",
       "      <td>0.996740</td>\n",
       "      <td>0.690453</td>\n",
       "    </tr>\n",
       "    <tr>\n",
       "      <th>1</th>\n",
       "      <td>33311009</td>\n",
       "      <td>106921</td>\n",
       "      <td>{\"4440454\": \"Shape Of Pop\", \"4456609\": \"NOW Th...</td>\n",
       "      <td>{\"675068\": \"Imagine Dragons\"}</td>\n",
       "      <td>{\"14\": \"rock\", \"102\": \"allrock\"}</td>\n",
       "      <td>Believer</td>\n",
       "      <td>0.962711</td>\n",
       "      <td>0.956368</td>\n",
       "      <td>0.920705</td>\n",
       "      <td>0.536651</td>\n",
       "    </tr>\n",
       "    <tr>\n",
       "      <th>2</th>\n",
       "      <td>178529</td>\n",
       "      <td>101924</td>\n",
       "      <td>{\"18113\": \"Meteora\", \"21924\": \"Meteora\", \"2194...</td>\n",
       "      <td>{\"36800\": \"Linkin Park\"}</td>\n",
       "      <td>{\"41\": \"numetal\", \"47\": \"metal\"}</td>\n",
       "      <td>Numb</td>\n",
       "      <td>0.917713</td>\n",
       "      <td>0.992615</td>\n",
       "      <td>0.910936</td>\n",
       "      <td>0.650176</td>\n",
       "    </tr>\n",
       "    <tr>\n",
       "      <th>3</th>\n",
       "      <td>35505245</td>\n",
       "      <td>99490</td>\n",
       "      <td>{\"4431303\": \"I Got Love\", \"20559909\": \"I Got L...</td>\n",
       "      <td>{\"4611844\": \"Miyagi &amp; Эндшпиль\", \"588511\": \"Ре...</td>\n",
       "      <td>{\"3\": \"rusrap\", \"75\": \"rap\"}</td>\n",
       "      <td>I Got Love</td>\n",
       "      <td>0.895796</td>\n",
       "      <td>0.969624</td>\n",
       "      <td>0.868585</td>\n",
       "      <td>0.534009</td>\n",
       "    </tr>\n",
       "    <tr>\n",
       "      <th>4</th>\n",
       "      <td>795836</td>\n",
       "      <td>85042</td>\n",
       "      <td>{\"88770\": \"Ten Summoner's Tales\", \"296297\": \"2...</td>\n",
       "      <td>{\"680\": \"Sting\"}</td>\n",
       "      <td>{\"11\": \"pop\", \"14\": \"rock\", \"102\": \"allrock\"}</td>\n",
       "      <td>Shape Of My Heart</td>\n",
       "      <td>0.765693</td>\n",
       "      <td>0.981796</td>\n",
       "      <td>0.751755</td>\n",
       "      <td>0.579616</td>\n",
       "    </tr>\n",
       "  </tbody>\n",
       "</table>\n",
       "</div>"
      ],
      "text/plain": [
       "   track_id   count                                             albums   \n",
       "0     53404  111062  {\"4367\": \"Nevermind\", \"89708\": \"Nirvana\", \"294...  \\\n",
       "1  33311009  106921  {\"4440454\": \"Shape Of Pop\", \"4456609\": \"NOW Th...   \n",
       "2    178529  101924  {\"18113\": \"Meteora\", \"21924\": \"Meteora\", \"2194...   \n",
       "3  35505245   99490  {\"4431303\": \"I Got Love\", \"20559909\": \"I Got L...   \n",
       "4    795836   85042  {\"88770\": \"Ten Summoner's Tales\", \"296297\": \"2...   \n",
       "\n",
       "                                             artists   \n",
       "0                                {\"9262\": \"Nirvana\"}  \\\n",
       "1                      {\"675068\": \"Imagine Dragons\"}   \n",
       "2                           {\"36800\": \"Linkin Park\"}   \n",
       "3  {\"4611844\": \"Miyagi & Эндшпиль\", \"588511\": \"Ре...   \n",
       "4                                   {\"680\": \"Sting\"}   \n",
       "\n",
       "                                              genres               track_name   \n",
       "0  {\"13\": \"alternative\", \"14\": \"rock\", \"102\": \"al...  Smells Like Teen Spirit  \\\n",
       "1                   {\"14\": \"rock\", \"102\": \"allrock\"}                 Believer   \n",
       "2                   {\"41\": \"numetal\", \"47\": \"metal\"}                     Numb   \n",
       "3                       {\"3\": \"rusrap\", \"75\": \"rap\"}               I Got Love   \n",
       "4      {\"11\": \"pop\", \"14\": \"rock\", \"102\": \"allrock\"}        Shape Of My Heart   \n",
       "\n",
       "   listen_pop_score  track_seq_score  popularity_score  avg_personal_score  \n",
       "0          1.000000         0.996740          0.996740            0.690453  \n",
       "1          0.962711         0.956368          0.920705            0.536651  \n",
       "2          0.917713         0.992615          0.910936            0.650176  \n",
       "3          0.895796         0.969624          0.868585            0.534009  \n",
       "4          0.765693         0.981796          0.751755            0.579616  "
      ]
     },
     "execution_count": 7,
     "metadata": {},
     "output_type": "execute_result"
    }
   ],
   "source": [
    "to_range.head()"
   ]
  },
  {
   "cell_type": "code",
   "execution_count": 8,
   "id": "8f6d9649",
   "metadata": {},
   "outputs": [
    {
     "data": {
      "text/html": [
       "<div>\n",
       "<style scoped>\n",
       "    .dataframe tbody tr th:only-of-type {\n",
       "        vertical-align: middle;\n",
       "    }\n",
       "\n",
       "    .dataframe tbody tr th {\n",
       "        vertical-align: top;\n",
       "    }\n",
       "\n",
       "    .dataframe thead th {\n",
       "        text-align: right;\n",
       "    }\n",
       "</style>\n",
       "<table border=\"1\" class=\"dataframe\">\n",
       "  <thead>\n",
       "    <tr style=\"text-align: right;\">\n",
       "      <th></th>\n",
       "      <th>user_id</th>\n",
       "      <th>track_id</th>\n",
       "      <th>target</th>\n",
       "      <th>als_score</th>\n",
       "      <th>count</th>\n",
       "      <th>albums</th>\n",
       "      <th>artists</th>\n",
       "      <th>genres</th>\n",
       "      <th>track_name</th>\n",
       "      <th>listen_pop_score</th>\n",
       "      <th>track_seq_score</th>\n",
       "      <th>popularity_score</th>\n",
       "      <th>avg_personal_score</th>\n",
       "    </tr>\n",
       "  </thead>\n",
       "  <tbody>\n",
       "    <tr>\n",
       "      <th>0</th>\n",
       "      <td>9</td>\n",
       "      <td>57175473</td>\n",
       "      <td>1</td>\n",
       "      <td>0.075927</td>\n",
       "      <td>6184.0</td>\n",
       "      <td>{\"8538066\": \"Неслучайно\"}</td>\n",
       "      <td>{\"452202\": \"MAX BARSKIH\"}</td>\n",
       "      <td>{\"11\": \"pop\", \"20\": \"ruspop\"}</td>\n",
       "      <td>Неслучайно</td>\n",
       "      <td>0.055587</td>\n",
       "      <td>0.917366</td>\n",
       "      <td>0.050994</td>\n",
       "      <td>0.456836</td>\n",
       "    </tr>\n",
       "    <tr>\n",
       "      <th>1</th>\n",
       "      <td>10</td>\n",
       "      <td>45499814</td>\n",
       "      <td>1</td>\n",
       "      <td>0.434660</td>\n",
       "      <td>84748.0</td>\n",
       "      <td>{\"6109461\": \"Life\", \"7094821\": \"Life\", \"715245...</td>\n",
       "      <td>{\"5007577\": \"Zivert\"}</td>\n",
       "      <td>{\"11\": \"pop\", \"20\": \"ruspop\"}</td>\n",
       "      <td>Life</td>\n",
       "      <td>0.763046</td>\n",
       "      <td>0.955807</td>\n",
       "      <td>0.729325</td>\n",
       "      <td>0.523603</td>\n",
       "    </tr>\n",
       "    <tr>\n",
       "      <th>2</th>\n",
       "      <td>10</td>\n",
       "      <td>49125069</td>\n",
       "      <td>1</td>\n",
       "      <td>0.316527</td>\n",
       "      <td>47159.0</td>\n",
       "      <td>{\"13193655\": \"Твой первый диск - моя кассета\"}</td>\n",
       "      <td>{\"6125147\": \"Тима Белорусских\"}</td>\n",
       "      <td>{\"11\": \"pop\", \"20\": \"ruspop\"}</td>\n",
       "      <td>Витаминка</td>\n",
       "      <td>0.424562</td>\n",
       "      <td>0.952942</td>\n",
       "      <td>0.404583</td>\n",
       "      <td>0.491317</td>\n",
       "    </tr>\n",
       "    <tr>\n",
       "      <th>3</th>\n",
       "      <td>12</td>\n",
       "      <td>31746480</td>\n",
       "      <td>1</td>\n",
       "      <td>0.599703</td>\n",
       "      <td>36302.0</td>\n",
       "      <td>{\"3854823\": \"Rockabye\", \"4004002\": \"Winter Mus...</td>\n",
       "      <td>{\"1559452\": \"Clean Bandit\", \"64826\": \"Sean Pau...</td>\n",
       "      <td>{\"11\": \"pop\", \"16\": \"dance\"}</td>\n",
       "      <td>Rockabye</td>\n",
       "      <td>0.326796</td>\n",
       "      <td>0.952877</td>\n",
       "      <td>0.311396</td>\n",
       "      <td>0.465476</td>\n",
       "    </tr>\n",
       "    <tr>\n",
       "      <th>4</th>\n",
       "      <td>28</td>\n",
       "      <td>18227581</td>\n",
       "      <td>1</td>\n",
       "      <td>0.135176</td>\n",
       "      <td>10923.0</td>\n",
       "      <td>{\"2022203\": \"A Sky Full of Stars\", \"2397206\": ...</td>\n",
       "      <td>{\"671\": \"Coldplay\"}</td>\n",
       "      <td>{\"14\": \"rock\", \"102\": \"allrock\"}</td>\n",
       "      <td>A Sky Full Of Stars</td>\n",
       "      <td>0.098261</td>\n",
       "      <td>0.946542</td>\n",
       "      <td>0.093008</td>\n",
       "      <td>0.365189</td>\n",
       "    </tr>\n",
       "  </tbody>\n",
       "</table>\n",
       "</div>"
      ],
      "text/plain": [
       "   user_id  track_id  target  als_score    count   \n",
       "0        9  57175473       1   0.075927   6184.0  \\\n",
       "1       10  45499814       1   0.434660  84748.0   \n",
       "2       10  49125069       1   0.316527  47159.0   \n",
       "3       12  31746480       1   0.599703  36302.0   \n",
       "4       28  18227581       1   0.135176  10923.0   \n",
       "\n",
       "                                              albums   \n",
       "0                          {\"8538066\": \"Неслучайно\"}  \\\n",
       "1  {\"6109461\": \"Life\", \"7094821\": \"Life\", \"715245...   \n",
       "2     {\"13193655\": \"Твой первый диск - моя кассета\"}   \n",
       "3  {\"3854823\": \"Rockabye\", \"4004002\": \"Winter Mus...   \n",
       "4  {\"2022203\": \"A Sky Full of Stars\", \"2397206\": ...   \n",
       "\n",
       "                                             artists   \n",
       "0                          {\"452202\": \"MAX BARSKIH\"}  \\\n",
       "1                              {\"5007577\": \"Zivert\"}   \n",
       "2                    {\"6125147\": \"Тима Белорусских\"}   \n",
       "3  {\"1559452\": \"Clean Bandit\", \"64826\": \"Sean Pau...   \n",
       "4                                {\"671\": \"Coldplay\"}   \n",
       "\n",
       "                             genres           track_name  listen_pop_score   \n",
       "0     {\"11\": \"pop\", \"20\": \"ruspop\"}           Неслучайно          0.055587  \\\n",
       "1     {\"11\": \"pop\", \"20\": \"ruspop\"}                 Life          0.763046   \n",
       "2     {\"11\": \"pop\", \"20\": \"ruspop\"}            Витаминка          0.424562   \n",
       "3      {\"11\": \"pop\", \"16\": \"dance\"}             Rockabye          0.326796   \n",
       "4  {\"14\": \"rock\", \"102\": \"allrock\"}  A Sky Full Of Stars          0.098261   \n",
       "\n",
       "   track_seq_score  popularity_score  avg_personal_score  \n",
       "0         0.917366          0.050994            0.456836  \n",
       "1         0.955807          0.729325            0.523603  \n",
       "2         0.952942          0.404583            0.491317  \n",
       "3         0.952877          0.311396            0.465476  \n",
       "4         0.946542          0.093008            0.365189  "
      ]
     },
     "execution_count": 8,
     "metadata": {},
     "output_type": "execute_result"
    }
   ],
   "source": [
    "### матчим с to_range\n",
    "candidates_for_train = pd.merge(candidates_for_train, to_range,\n",
    "                                on = ['track_id'],\n",
    "                                how='left')\n",
    "candidates_for_train.head()"
   ]
  },
  {
   "cell_type": "code",
   "execution_count": 2,
   "id": "a8325469",
   "metadata": {},
   "outputs": [
    {
     "name": "stdout",
     "output_type": "stream",
     "text": [
      "events_train: 8262.77 MB\n",
      "events_test: 546.94 MB\n",
      "events_labels: 340.08 MB\n",
      "large_df: 7.63 MB\n",
      "MinMaxScaler: 0.00 MB\n",
      "CatBoostClassifier: 0.00 MB\n",
      "Pool: 0.00 MB\n",
      "open: 0.00 MB\n",
      "load_dotenv: 0.00 MB\n",
      "send_to_s3: 0.00 MB\n",
      "show_memory_usage: 0.00 MB\n",
      "get_most_popular: 0.00 MB\n",
      "In: 0.00 MB\n",
      "AWS_SECRET_ACCESS_KEY: 0.00 MB\n",
      "S3_BUCKET_NAME: 0.00 MB\n",
      "Доступно памяти: 33.65 GB\n",
      "Используется: 12.37 GB\n"
     ]
    }
   ],
   "source": [
    "# candidates_for_train.to_parquet('data/candidates_for_train.parquet')\n",
    "candidates_for_train = pd.read_parquet('data/candidates_for_train.parquet')\n",
    "# events_train = pd.read_parquet('data/events_train.parquet')\n",
    "# events_test = pd.read_parquet('data/events_test.parquet')\n",
    "# events_labels = pd.read_parquet('data/events_labels.parquet')\n",
    "show_memory_usage()\n"
   ]
  },
  {
   "cell_type": "code",
   "execution_count": 3,
   "id": "1fff1d08",
   "metadata": {},
   "outputs": [],
   "source": [
    "# # оставим только тех пользователей, что есть в тесте, для экономии ресурсов\n",
    "events_inference = pd.concat([events_train, events_labels])\n",
    "events_inference = events_inference[events_inference[\"user_id\"].isin(events_test[\"user_id\"].drop_duplicates())]\n",
    "# events_inference.to_parquet('data/events_inference.parquet')\n",
    "events_inference = pd.read_parquet('data/events_inference.parquet')"
   ]
  },
  {
   "cell_type": "code",
   "execution_count": 2,
   "id": "a3b9951c",
   "metadata": {},
   "outputs": [
    {
     "name": "stdout",
     "output_type": "stream",
     "text": [
      "events_inference: 6331.00 MB\n",
      "candidates_to_rank: 2722.81 MB\n",
      "candidates_for_train: 606.58 MB\n",
      "large_df: 7.63 MB\n",
      "MinMaxScaler: 0.00 MB\n",
      "CatBoostClassifier: 0.00 MB\n",
      "Pool: 0.00 MB\n",
      "open: 0.00 MB\n",
      "load_dotenv: 0.00 MB\n",
      "send_to_s3: 0.00 MB\n",
      "show_memory_usage: 0.00 MB\n",
      "get_most_popular: 0.00 MB\n",
      "In: 0.00 MB\n",
      "AWS_SECRET_ACCESS_KEY: 0.00 MB\n",
      "S3_BUCKET_NAME: 0.00 MB\n",
      "Доступно памяти: 33.65 GB\n",
      "Используется: 19.81 GB\n"
     ]
    }
   ],
   "source": [
    "candidates_for_train = pd.read_parquet('data/candidates_for_train.parquet')\n",
    "candidates_to_rank = pd.read_parquet('data/candidates_to_rank.parquet')\n",
    "events_inference = pd.read_parquet('data/events_inference.parquet')\n",
    "show_memory_usage()"
   ]
  },
  {
   "cell_type": "code",
   "execution_count": 3,
   "id": "6dbe4db4-1ac5-44da-a13c-8e7f9768ab73",
   "metadata": {},
   "outputs": [
    {
     "name": "stdout",
     "output_type": "stream",
     "text": [
      "0:\tlearn: 0.6711172\ttotal: 89.1ms\tremaining: 1m 29s\n",
      "100:\tlearn: 0.5568252\ttotal: 3.12s\tremaining: 27.8s\n",
      "200:\tlearn: 0.5486607\ttotal: 6.2s\tremaining: 24.7s\n",
      "300:\tlearn: 0.5437456\ttotal: 9.3s\tremaining: 21.6s\n",
      "400:\tlearn: 0.5397530\ttotal: 12.4s\tremaining: 18.6s\n",
      "500:\tlearn: 0.5368277\ttotal: 15.6s\tremaining: 15.5s\n",
      "600:\tlearn: 0.5342800\ttotal: 18.8s\tremaining: 12.5s\n",
      "700:\tlearn: 0.5319404\ttotal: 22s\tremaining: 9.39s\n",
      "800:\tlearn: 0.5300224\ttotal: 25.3s\tremaining: 6.27s\n",
      "900:\tlearn: 0.5283825\ttotal: 28.5s\tremaining: 3.13s\n",
      "999:\tlearn: 0.5269080\ttotal: 31.7s\tremaining: 0us\n"
     ]
    },
    {
     "data": {
      "text/plain": [
       "<catboost.core.CatBoostClassifier at 0x7f2e3d1773d0>"
      ]
     },
     "execution_count": 3,
     "metadata": {},
     "output_type": "execute_result"
    }
   ],
   "source": [
    "\n",
    "# задаём имена колонок признаков и таргета\n",
    "features = ['als_score', 'listen_pop_score',\n",
    "       'track_seq_score', 'popularity_score', 'avg_personal_score']\n",
    "target = 'target'\n",
    "\n",
    "# создаём Pool\n",
    "train_data = Pool(\n",
    "    data=candidates_for_train[features], \n",
    "    label=candidates_for_train[target])\n",
    "\n",
    "# инициализируем модель CatBoostClassifier\n",
    "cb_model = CatBoostClassifier(\n",
    "    iterations=1000,\n",
    "    learning_rate=0.1,\n",
    "    depth=6,\n",
    "    loss_function='Logloss',\n",
    "    verbose=100,\n",
    "    random_seed=0,\n",
    ")\n",
    "\n",
    "# тренируем модель\n",
    "cb_model.fit(train_data)"
   ]
  },
  {
   "cell_type": "code",
   "execution_count": 5,
   "id": "128c982d",
   "metadata": {},
   "outputs": [
    {
     "name": "stdout",
     "output_type": "stream",
     "text": [
      "Пользователей: 549052\n"
     ]
    }
   ],
   "source": [
    "inference_data = Pool(data=candidates_to_rank[features])\n",
    "predictions = cb_model.predict_proba(inference_data)\n",
    "\n",
    "candidates_to_rank[\"cb_score\"] = predictions[:, 1] \n",
    "\n",
    "# для каждого пользователя проставим rank, начиная с 1 — это максимальный cb_score\n",
    "candidates_to_rank = candidates_to_rank.sort_values([\"user_id\", \"cb_score\"], ascending=[True, False])\n",
    "candidates_to_rank[\"rank\"] = candidates_to_rank.groupby(\"user_id\").cumcount() + 1 \n",
    "\n",
    "max_recommendations_per_user = 100\n",
    "final_recommendations = candidates_to_rank.query(\"rank <= @max_recommendations_per_user\")\n",
    "print(f\"Пользователей: {final_recommendations['user_id'].nunique()}\")"
   ]
  },
  {
   "cell_type": "code",
   "execution_count": 6,
   "id": "4cbd01fd",
   "metadata": {},
   "outputs": [],
   "source": [
    "candidates_to_rank.to_parquet('data/candidates_to_rank.parquet')\n",
    "final_recommendations.to_parquet('models/recommendations.parquet')"
   ]
  },
  {
   "cell_type": "code",
   "execution_count": 7,
   "id": "e10fd4a5",
   "metadata": {},
   "outputs": [
    {
     "data": {
      "text/html": [
       "<div>\n",
       "<style scoped>\n",
       "    .dataframe tbody tr th:only-of-type {\n",
       "        vertical-align: middle;\n",
       "    }\n",
       "\n",
       "    .dataframe tbody tr th {\n",
       "        vertical-align: top;\n",
       "    }\n",
       "\n",
       "    .dataframe thead th {\n",
       "        text-align: right;\n",
       "    }\n",
       "</style>\n",
       "<table border=\"1\" class=\"dataframe\">\n",
       "  <thead>\n",
       "    <tr style=\"text-align: right;\">\n",
       "      <th></th>\n",
       "      <th>user_id</th>\n",
       "      <th>track_id</th>\n",
       "      <th>als_score</th>\n",
       "      <th>listen_pop_score</th>\n",
       "      <th>track_seq_score</th>\n",
       "      <th>popularity_score</th>\n",
       "      <th>avg_personal_score</th>\n",
       "      <th>cb_score</th>\n",
       "      <th>rank</th>\n",
       "    </tr>\n",
       "  </thead>\n",
       "  <tbody>\n",
       "    <tr>\n",
       "      <th>60</th>\n",
       "      <td>4</td>\n",
       "      <td>21697759</td>\n",
       "      <td>0.740801</td>\n",
       "      <td>0.038019</td>\n",
       "      <td>0.912395</td>\n",
       "      <td>0.034688</td>\n",
       "      <td>0.371915</td>\n",
       "      <td>0.659373</td>\n",
       "      <td>1</td>\n",
       "    </tr>\n",
       "    <tr>\n",
       "      <th>78</th>\n",
       "      <td>4</td>\n",
       "      <td>22511559</td>\n",
       "      <td>0.722119</td>\n",
       "      <td>0.031670</td>\n",
       "      <td>0.927095</td>\n",
       "      <td>0.029361</td>\n",
       "      <td>0.373118</td>\n",
       "      <td>0.528583</td>\n",
       "      <td>2</td>\n",
       "    </tr>\n",
       "    <tr>\n",
       "      <th>71</th>\n",
       "      <td>4</td>\n",
       "      <td>20069589</td>\n",
       "      <td>0.733041</td>\n",
       "      <td>0.046483</td>\n",
       "      <td>0.933937</td>\n",
       "      <td>0.043412</td>\n",
       "      <td>0.454103</td>\n",
       "      <td>0.388563</td>\n",
       "      <td>3</td>\n",
       "    </tr>\n",
       "    <tr>\n",
       "      <th>95</th>\n",
       "      <td>4</td>\n",
       "      <td>20479652</td>\n",
       "      <td>0.704781</td>\n",
       "      <td>0.041332</td>\n",
       "      <td>0.896206</td>\n",
       "      <td>0.037042</td>\n",
       "      <td>0.403148</td>\n",
       "      <td>0.349897</td>\n",
       "      <td>4</td>\n",
       "    </tr>\n",
       "    <tr>\n",
       "      <th>47</th>\n",
       "      <td>4</td>\n",
       "      <td>21710005</td>\n",
       "      <td>0.760822</td>\n",
       "      <td>0.134623</td>\n",
       "      <td>0.942695</td>\n",
       "      <td>0.126908</td>\n",
       "      <td>0.450261</td>\n",
       "      <td>0.342079</td>\n",
       "      <td>5</td>\n",
       "    </tr>\n",
       "  </tbody>\n",
       "</table>\n",
       "</div>"
      ],
      "text/plain": [
       "    user_id  track_id  als_score  listen_pop_score  track_seq_score   \n",
       "60        4  21697759   0.740801          0.038019         0.912395  \\\n",
       "78        4  22511559   0.722119          0.031670         0.927095   \n",
       "71        4  20069589   0.733041          0.046483         0.933937   \n",
       "95        4  20479652   0.704781          0.041332         0.896206   \n",
       "47        4  21710005   0.760822          0.134623         0.942695   \n",
       "\n",
       "    popularity_score  avg_personal_score  cb_score  rank  \n",
       "60          0.034688            0.371915  0.659373     1  \n",
       "78          0.029361            0.373118  0.528583     2  \n",
       "71          0.043412            0.454103  0.388563     3  \n",
       "95          0.037042            0.403148  0.349897     4  \n",
       "47          0.126908            0.450261  0.342079     5  "
      ]
     },
     "execution_count": 7,
     "metadata": {},
     "output_type": "execute_result"
    }
   ],
   "source": [
    "candidates_to_rank.head()"
   ]
  },
  {
   "cell_type": "markdown",
   "id": "b3c84071-45b5-4a15-a683-e0ab034a3128",
   "metadata": {},
   "source": [
    "# Оценка качества"
   ]
  },
  {
   "cell_type": "markdown",
   "id": "1b107fe4-554e-42b1-87d9-c435a52bb77a",
   "metadata": {},
   "source": [
    "Проверим оценку качества трёх типов рекомендаций: \n",
    "\n",
    "- топ популярных,\n",
    "- персональных, полученных при помощи ALS,\n",
    "- итоговых\n",
    "  \n",
    "по четырем метрикам: recall, precision, coverage, novelty."
   ]
  },
  {
   "cell_type": "code",
   "execution_count": 2,
   "id": "94d6f388-aecb-443e-8647-14014e932d4d",
   "metadata": {},
   "outputs": [],
   "source": [
    "def process_events_recs_for_binary_metrics(events_train, events_test, recs, top_k=None):\n",
    "\n",
    "    \"\"\"\n",
    "    размечает пары <user_id, track_id> для общего множества пользователей признаками\n",
    "    - gt (ground truth)\n",
    "    - pr (prediction)\n",
    "    top_k: расчёт ведётся только для top k-рекомендаций\n",
    "    \"\"\"\n",
    "\n",
    "    events_test[\"gt\"] = True\n",
    "    common_users = set(events_test[\"user_id\"]) & set(recs[\"user_id\"])\n",
    "\n",
    "    print(f\"Common users: {len(common_users)}\")\n",
    "    \n",
    "    events_for_common_users = events_test[events_test[\"user_id\"].isin(common_users)].copy()\n",
    "    recs_for_common_users = recs[recs[\"user_id\"].isin(common_users)].copy()\n",
    "\n",
    "    recs_for_common_users = recs_for_common_users.sort_values([\"user_id\", \"score\"], ascending=[True, False])\n",
    "\n",
    "    # оставляет только те track_id, которые были в events_train, \n",
    "    # т. к. модель не имела никакой возможности давать рекомендации для новых айтемов\n",
    "    events_for_common_users = events_for_common_users[events_for_common_users[\"track_id\"].isin(events_train[\"track_id\"].unique())]\n",
    "\n",
    "    if top_k is not None:\n",
    "        recs_for_common_users = recs_for_common_users.groupby(\"user_id\").head(top_k)\n",
    "    \n",
    "    events_recs_common = events_for_common_users[[\"user_id\", \"track_id\", \"gt\"]].merge(\n",
    "        recs_for_common_users[[\"user_id\", \"track_id\", \"score\"]], \n",
    "        on=[\"user_id\", \"track_id\"], how=\"outer\")    \n",
    "\n",
    "    events_recs_common[\"gt\"] = events_recs_common[\"gt\"].fillna(False)\n",
    "    events_recs_common[\"pr\"] = ~events_recs_common[\"score\"].isnull()\n",
    "    \n",
    "    events_recs_common[\"tp\"] = events_recs_common[\"gt\"] & events_recs_common[\"pr\"]\n",
    "    events_recs_common[\"fp\"] = ~events_recs_common[\"gt\"] & events_recs_common[\"pr\"]\n",
    "    events_recs_common[\"fn\"] = events_recs_common[\"gt\"] & ~events_recs_common[\"pr\"]\n",
    "\n",
    "    return events_recs_common\n",
    "\n",
    "def compute_cls_metrics(events_recs_for_binary_metric):\n",
    "    \n",
    "    groupper = events_recs_for_binary_metric.groupby(\"user_id\")\n",
    "\n",
    "    # precision = tp / (tp + fp)\n",
    "    precision = groupper[\"tp\"].sum()/(groupper[\"tp\"].sum()+groupper[\"fp\"].sum())\n",
    "    precision = precision.fillna(0).mean()\n",
    "    \n",
    "    # recall = tp / (tp + fn)\n",
    "    recall = groupper[\"tp\"].sum()/(groupper[\"tp\"].sum()+groupper[\"fn\"].sum()) \n",
    "    recall = recall.fillna(0).mean()\n",
    "\n",
    "    return precision, recall"
   ]
  },
  {
   "cell_type": "code",
   "execution_count": 3,
   "id": "f0c88ec7",
   "metadata": {},
   "outputs": [
    {
     "name": "stdout",
     "output_type": "stream",
     "text": [
      "events_inference: 6331.00 MB\n",
      "recommendations: 3979.49 MB\n",
      "events_test_2: 211.81 MB\n",
      "large_df: 7.63 MB\n",
      "MinMaxScaler: 0.00 MB\n",
      "CatBoostClassifier: 0.00 MB\n",
      "Pool: 0.00 MB\n",
      "open: 0.00 MB\n",
      "load_dotenv: 0.00 MB\n",
      "send_to_s3: 0.00 MB\n",
      "show_memory_usage: 0.00 MB\n",
      "get_most_popular: 0.00 MB\n",
      "process_events_recs_for_binary_metrics: 0.00 MB\n",
      "compute_cls_metrics: 0.00 MB\n",
      "In: 0.00 MB\n",
      "Доступно памяти: 33.65 GB\n",
      "Используется: 20.67 GB\n"
     ]
    }
   ],
   "source": [
    "# top_popular = pd.read_parquet('models/top_popular.parquet')\n",
    "# personal_als = pd.read_parquet('models/personal_als.parquet')\n",
    "# similar = pd.read_parquet('models/similar.parquet')\n",
    "recommendations = pd.read_parquet('models/recommendations.parquet')\n",
    "events_test_2 = pd.read_parquet('data/events_test_2.parquet')\n",
    "events_inference = pd.read_parquet('data/events_inference.parquet')\n",
    "show_memory_usage()"
   ]
  },
  {
   "cell_type": "code",
   "execution_count": 4,
   "id": "8cce6b0e",
   "metadata": {},
   "outputs": [],
   "source": [
    "top_k = 5"
   ]
  },
  {
   "cell_type": "code",
   "execution_count": 5,
   "id": "26df411f-14c1-4848-8797-f37afe449cc6",
   "metadata": {},
   "outputs": [
    {
     "name": "stdout",
     "output_type": "stream",
     "text": [
      "Common users: 549052\n",
      "precision: 0.0008, recall: 0.0021\n"
     ]
    }
   ],
   "source": [
    "pop_events_recs_for_binary_metrics_5 = process_events_recs_for_binary_metrics(\n",
    "    events_inference, events_test_2,\n",
    "    recommendations.rename(columns={\"popularity_score\": \"score\"}), \n",
    "    top_k=top_k)\n",
    "\n",
    "pop_precision, pop_recall = compute_cls_metrics(pop_events_recs_for_binary_metrics_5)\n",
    "\n",
    "print(f\"precision: {pop_precision:.4f}, recall: {pop_recall:.4f}\") "
   ]
  },
  {
   "cell_type": "code",
   "execution_count": 6,
   "id": "423571f6",
   "metadata": {},
   "outputs": [
    {
     "name": "stdout",
     "output_type": "stream",
     "text": [
      "Common users: 549052\n",
      "precision: 0.0006, recall: 0.0018\n"
     ]
    }
   ],
   "source": [
    "pop_events_recs_for_binary_metrics_5 = process_events_recs_for_binary_metrics(\n",
    "    events_inference, events_test_2,\n",
    "    recommendations.rename(columns={\"als_score\": \"score\"}), \n",
    "    top_k=top_k)\n",
    "\n",
    "als_precision, als_recall = compute_cls_metrics(pop_events_recs_for_binary_metrics_5)\n",
    "\n",
    "print(f\"precision: {als_precision:.4f}, recall: {als_recall:.4f}\") "
   ]
  },
  {
   "cell_type": "code",
   "execution_count": 7,
   "id": "6bf6e316",
   "metadata": {},
   "outputs": [
    {
     "name": "stdout",
     "output_type": "stream",
     "text": [
      "Common users: 549052\n",
      "precision: 0.0034, recall: 0.0088\n"
     ]
    }
   ],
   "source": [
    "pop_events_recs_for_binary_metrics_5 = process_events_recs_for_binary_metrics(\n",
    "    events_inference, events_test_2,\n",
    "    recommendations.rename(columns={\"cb_score\": \"score\"}), \n",
    "    top_k=top_k)\n",
    "\n",
    "cb_precision, cb_recall = compute_cls_metrics(pop_events_recs_for_binary_metrics_5)\n",
    "\n",
    "print(f\"precision: {cb_precision:.4f}, recall: {cb_recall:.4f}\") "
   ]
  },
  {
   "cell_type": "code",
   "execution_count": 11,
   "id": "01ccb17f",
   "metadata": {},
   "outputs": [
    {
     "data": {
      "text/html": [
       "<div>\n",
       "<style scoped>\n",
       "    .dataframe tbody tr th:only-of-type {\n",
       "        vertical-align: middle;\n",
       "    }\n",
       "\n",
       "    .dataframe tbody tr th {\n",
       "        vertical-align: top;\n",
       "    }\n",
       "\n",
       "    .dataframe thead th {\n",
       "        text-align: right;\n",
       "    }\n",
       "</style>\n",
       "<table border=\"1\" class=\"dataframe\">\n",
       "  <thead>\n",
       "    <tr style=\"text-align: right;\">\n",
       "      <th></th>\n",
       "      <th>track_id</th>\n",
       "      <th>albums</th>\n",
       "      <th>artists</th>\n",
       "      <th>genres</th>\n",
       "      <th>track_name</th>\n",
       "    </tr>\n",
       "  </thead>\n",
       "  <tbody>\n",
       "    <tr>\n",
       "      <th>0</th>\n",
       "      <td>26</td>\n",
       "      <td>{\"3\": \"Taller Children\", \"2490753\": \"Taller Ch...</td>\n",
       "      <td>{\"16\": \"Elizabeth &amp; the Catapult\"}</td>\n",
       "      <td>{\"11\": \"pop\", \"21\": \"folk\"}</td>\n",
       "      <td>Complimentary Me</td>\n",
       "    </tr>\n",
       "    <tr>\n",
       "      <th>1</th>\n",
       "      <td>38</td>\n",
       "      <td>{\"3\": \"Taller Children\", \"2490753\": \"Taller Ch...</td>\n",
       "      <td>{\"16\": \"Elizabeth &amp; the Catapult\"}</td>\n",
       "      <td>{\"11\": \"pop\", \"21\": \"folk\"}</td>\n",
       "      <td>Momma's Boy</td>\n",
       "    </tr>\n",
       "    <tr>\n",
       "      <th>2</th>\n",
       "      <td>135</td>\n",
       "      <td>{\"12\": \"Wild Young Hearts\", \"214\": \"Wild Young...</td>\n",
       "      <td>{\"84\": \"Noisettes\"}</td>\n",
       "      <td>{\"11\": \"pop\"}</td>\n",
       "      <td>Atticus</td>\n",
       "    </tr>\n",
       "    <tr>\n",
       "      <th>3</th>\n",
       "      <td>136</td>\n",
       "      <td>{\"12\": \"Wild Young Hearts\", \"214\": \"Wild Young...</td>\n",
       "      <td>{\"84\": \"Noisettes\"}</td>\n",
       "      <td>{\"11\": \"pop\"}</td>\n",
       "      <td>24 Hours</td>\n",
       "    </tr>\n",
       "    <tr>\n",
       "      <th>4</th>\n",
       "      <td>138</td>\n",
       "      <td>{\"12\": \"Wild Young Hearts\", \"214\": \"Wild Young...</td>\n",
       "      <td>{\"84\": \"Noisettes\"}</td>\n",
       "      <td>{\"11\": \"pop\"}</td>\n",
       "      <td>Don't Upset The Rhythm (Go Baby Go)</td>\n",
       "    </tr>\n",
       "  </tbody>\n",
       "</table>\n",
       "</div>"
      ],
      "text/plain": [
       "   track_id                                             albums   \n",
       "0        26  {\"3\": \"Taller Children\", \"2490753\": \"Taller Ch...  \\\n",
       "1        38  {\"3\": \"Taller Children\", \"2490753\": \"Taller Ch...   \n",
       "2       135  {\"12\": \"Wild Young Hearts\", \"214\": \"Wild Young...   \n",
       "3       136  {\"12\": \"Wild Young Hearts\", \"214\": \"Wild Young...   \n",
       "4       138  {\"12\": \"Wild Young Hearts\", \"214\": \"Wild Young...   \n",
       "\n",
       "                              artists                       genres   \n",
       "0  {\"16\": \"Elizabeth & the Catapult\"}  {\"11\": \"pop\", \"21\": \"folk\"}  \\\n",
       "1  {\"16\": \"Elizabeth & the Catapult\"}  {\"11\": \"pop\", \"21\": \"folk\"}   \n",
       "2                 {\"84\": \"Noisettes\"}                {\"11\": \"pop\"}   \n",
       "3                 {\"84\": \"Noisettes\"}                {\"11\": \"pop\"}   \n",
       "4                 {\"84\": \"Noisettes\"}                {\"11\": \"pop\"}   \n",
       "\n",
       "                            track_name  \n",
       "0                     Complimentary Me  \n",
       "1                          Momma's Boy  \n",
       "2                              Atticus  \n",
       "3                             24 Hours  \n",
       "4  Don't Upset The Rhythm (Go Baby Go)  "
      ]
     },
     "execution_count": 11,
     "metadata": {},
     "output_type": "execute_result"
    }
   ],
   "source": [
    "items = pd.read_parquet('data/items.parquet')\n",
    "items.head()"
   ]
  },
  {
   "cell_type": "code",
   "execution_count": 13,
   "id": "b89164bb",
   "metadata": {},
   "outputs": [
    {
     "name": "stdout",
     "output_type": "stream",
     "text": [
      "Покрытие: cov_items 0.5928\n"
     ]
    }
   ],
   "source": [
    "# расчёт покрытия по объектам\n",
    "\n",
    "# Все уникальные объекты в наших рекомендациях\n",
    "recommended_items = recommendations[['user_id', 'track_id']].nunique().sum()\n",
    "\n",
    "# Все уникальные объекты в системе\n",
    "all_items = items['track_id'].nunique()\n",
    "\n",
    "# Рассчитываем покрытие\n",
    "cov_items = recommended_items / all_items\n",
    "\n",
    "print(f\"Покрытие: cov_items {cov_items:.4f}\")"
   ]
  },
  {
   "cell_type": "code",
   "execution_count": 2,
   "id": "fd71a85a",
   "metadata": {},
   "outputs": [
    {
     "name": "stdout",
     "output_type": "stream",
     "text": [
      "events_train: 8262.77 MB\n",
      "recommendations: 3979.49 MB\n",
      "large_df: 7.63 MB\n",
      "MinMaxScaler: 0.00 MB\n",
      "CatBoostClassifier: 0.00 MB\n",
      "Pool: 0.00 MB\n",
      "open: 0.00 MB\n",
      "load_dotenv: 0.00 MB\n",
      "send_to_s3: 0.00 MB\n",
      "show_memory_usage: 0.00 MB\n",
      "get_most_popular: 0.00 MB\n",
      "In: 0.00 MB\n",
      "AWS_SECRET_ACCESS_KEY: 0.00 MB\n",
      "S3_BUCKET_NAME: 0.00 MB\n",
      "AWS_S3_ENDPOINT_URL: 0.00 MB\n",
      "Доступно памяти: 33.65 GB\n",
      "Используется: 20.21 GB\n"
     ]
    }
   ],
   "source": [
    "# del events_inference\n",
    "# del events_test_2\n",
    "events_train = pd.read_parquet('data/events_train.parquet')\n",
    "recommendations = pd.read_parquet('models/recommendations.parquet')\n",
    "show_memory_usage()"
   ]
  },
  {
   "cell_type": "code",
   "execution_count": 2,
   "id": "c648d7d4",
   "metadata": {},
   "outputs": [
    {
     "name": "stdout",
     "output_type": "stream",
     "text": [
      "events_inference: 6331.00 MB\n",
      "recommendations: 3979.49 MB\n",
      "large_df: 7.63 MB\n",
      "MinMaxScaler: 0.00 MB\n",
      "CatBoostClassifier: 0.00 MB\n",
      "Pool: 0.00 MB\n",
      "open: 0.00 MB\n",
      "load_dotenv: 0.00 MB\n",
      "send_to_s3: 0.00 MB\n",
      "show_memory_usage: 0.00 MB\n",
      "get_most_popular: 0.00 MB\n",
      "In: 0.00 MB\n",
      "AWS_SECRET_ACCESS_KEY: 0.00 MB\n",
      "S3_BUCKET_NAME: 0.00 MB\n",
      "AWS_S3_ENDPOINT_URL: 0.00 MB\n",
      "Доступно памяти: 33.65 GB\n",
      "Используется: 20.43 GB\n"
     ]
    },
    {
     "data": {
      "text/plain": [
       "0.8719829815755156"
      ]
     },
     "execution_count": 2,
     "metadata": {},
     "output_type": "execute_result"
    }
   ],
   "source": [
    "recommendations = pd.read_parquet('models/recommendations.parquet')\n",
    "events_inference = pd.read_parquet('data/events_inference.parquet')\n",
    "show_memory_usage()\n",
    "\n",
    "# разметим каждую рекомендацию признаком listen\n",
    "events_inference[\"listen\"] = True\n",
    "recommendations = recommendations.merge(events_inference, on=[\"user_id\", \"track_id\"], how=\"left\")\n",
    "recommendations[\"listen\"] = recommendations[\"listen\"].fillna(False).astype(\"bool\")\n",
    "\n",
    "# проставим ранги\n",
    "recommendations = recommendations.sort_values(by=['cb_score', 'user_id'], ascending=False)\n",
    "recommendations[\"rank\"] = recommendations.groupby(\"user_id\").cumcount() + 1\n",
    "\n",
    "# посчитаем novelty по пользователям\n",
    "novelty_5 = (1-recommendations.query(\"rank <= 5\").groupby(\"user_id\")[\"listen\"].mean())\n",
    "\n",
    "# посчитаем средний novelty\n",
    "novelty_5.mean()"
   ]
  },
  {
   "cell_type": "markdown",
   "id": "f1c8d38c-32b0-46a4-96f0-cd01dac708bc",
   "metadata": {},
   "source": [
    "# === Выводы, метрики ==="
   ]
  },
  {
   "cell_type": "markdown",
   "id": "f7d7d5d8-7d1e-4fdf-a6cd-83e5ce92c684",
   "metadata": {},
   "source": [
    "Основные выводы при работе над расчётом рекомендаций, рассчитанные метрики."
   ]
  },
  {
   "cell_type": "markdown",
   "id": "6403097d-db36-46d9-8952-613c9bd51b05",
   "metadata": {},
   "source": [
    "Нами была создана рекомендательная система, рассчитанная на основе популярных, персональных рекомендациях (с помощью ALS) и похожих композициях (также с помощью ALS-модели).\n",
    "\n",
    "Рекомендации по популярным:\n",
    "precision: 0.0008, recall: 0.0021\n",
    "\n",
    "Персональные рекомендации:\n",
    "precision: 0.0006, recall: 0.0018\n",
    "\n",
    "Итоговые рекомендации:\n",
    "precision: 0.0034, recall: 0.0088\n",
    "\n",
    "- novietly 0.8719\n",
    "- cov_items 0.5928\n",
    "\n",
    "Исходя из вышеперечисленных результатов, мы наблюдаем невысокие значения precision и recall для всех представленных рекомендаций, что говорит нам о невысокой точности наших моделей, однако, показатели новизны и покрытия находятся на достаточно высоком уровне. Это говорит нам о том, что большая часть предложенных в рамках этих рекомендаций композиций ранее не встречались пользователю и более половины объектов были покрыты рекомендациями."
   ]
  }
 ],
 "metadata": {
  "kernelspec": {
   "display_name": ".venv",
   "language": "python",
   "name": "python3"
  },
  "language_info": {
   "codemirror_mode": {
    "name": "ipython",
    "version": 3
   },
   "file_extension": ".py",
   "mimetype": "text/x-python",
   "name": "python",
   "nbconvert_exporter": "python",
   "pygments_lexer": "ipython3",
   "version": "3.10.12"
  }
 },
 "nbformat": 4,
 "nbformat_minor": 5
}
